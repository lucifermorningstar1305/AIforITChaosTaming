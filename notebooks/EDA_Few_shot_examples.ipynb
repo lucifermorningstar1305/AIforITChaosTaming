{
 "cells": [
  {
   "cell_type": "code",
   "execution_count": 1,
   "id": "6a05a6d0-cf71-45ec-943e-54e19be15d66",
   "metadata": {
    "tags": []
   },
   "outputs": [],
   "source": [
    "import matplotlib.pyplot as plt\n",
    "import numpy as np\n",
    "import polars as pol\n",
    "import seaborn as sns"
   ]
  },
  {
   "cell_type": "code",
   "execution_count": 2,
   "id": "4f5e7ffc-d786-402f-adfb-5b84c73904cd",
   "metadata": {
    "tags": []
   },
   "outputs": [
    {
     "data": {
      "text/html": [
       "<div><style>\n",
       ".dataframe > thead > tr,\n",
       ".dataframe > tbody > tr {\n",
       "  text-align: right;\n",
       "  white-space: pre-wrap;\n",
       "}\n",
       "</style>\n",
       "<small>shape: (5, 9)</small><table border=\"1\" class=\"dataframe\"><thead><tr><th>Incident_No</th><th>Description</th><th>Assigned_Group</th><th>Incident_Type</th><th>Production_Category</th><th>Operational_Category</th><th>n_words</th><th>clean_text</th><th>Assigned_Group_fixed</th></tr><tr><td>str</td><td>str</td><td>str</td><td>str</td><td>str</td><td>str</td><td>i64</td><td>str</td><td>str</td></tr></thead><tbody><tr><td>&quot;INC00000776689…</td><td>&quot;CRM Applicatio…</td><td>&quot;War Room&quot;</td><td>&quot;User Service R…</td><td>&quot;Business Appli…</td><td>&quot;Issue_Applicat…</td><td>182</td><td>&quot;crm applicatio…</td><td>&quot;war room&quot;</td></tr><tr><td>&quot;INC00000776477…</td><td>&quot;HR | VOICE TT …</td><td>&quot;CM Support&quot;</td><td>&quot;User Service R…</td><td>&quot;Business Appli…</td><td>&quot;Critical Appli…</td><td>124</td><td>&quot;hr | voice tt …</td><td>&quot;cm support&quot;</td></tr><tr><td>&quot;INC00000776473…</td><td>&quot;Pending Active…</td><td>&quot;L1- CRM Postpa…</td><td>&quot;User Service R…</td><td>&quot;Business Appli…</td><td>&quot;Critical Appli…</td><td>173</td><td>&quot;pending active…</td><td>&quot;l1-crm postpai…</td></tr><tr><td>&quot;INC00000776402…</td><td>&quot;AV definitions…</td><td>&quot;L1-Wintel&quot;</td><td>&quot;User Service R…</td><td>&quot;Software_Opera…</td><td>&quot;Other_other_ot…</td><td>412</td><td>&quot;av definitions…</td><td>&quot;l1-wintel&quot;</td></tr><tr><td>&quot;INC00000776390…</td><td>&quot;old Doc not re…</td><td>&quot;L2 - CRM Ops S…</td><td>&quot;User Service R…</td><td>&quot;Business Appli…</td><td>&quot;Issue_Applicat…</td><td>229</td><td>&quot;old doc not re…</td><td>&quot;l2-crm ops sup…</td></tr></tbody></table></div>"
      ],
      "text/plain": [
       "shape: (5, 9)\n",
       "┌────────────┬───────────┬───────────┬───────────┬───┬───────────┬─────────┬───────────┬───────────┐\n",
       "│ Incident_N ┆ Descripti ┆ Assigned_ ┆ Incident_ ┆ … ┆ Operation ┆ n_words ┆ clean_tex ┆ Assigned_ │\n",
       "│ o          ┆ on        ┆ Group     ┆ Type      ┆   ┆ al_Catego ┆ ---     ┆ t         ┆ Group_fix │\n",
       "│ ---        ┆ ---       ┆ ---       ┆ ---       ┆   ┆ ry        ┆ i64     ┆ ---       ┆ ed        │\n",
       "│ str        ┆ str       ┆ str       ┆ str       ┆   ┆ ---       ┆         ┆ str       ┆ ---       │\n",
       "│            ┆           ┆           ┆           ┆   ┆ str       ┆         ┆           ┆ str       │\n",
       "╞════════════╪═══════════╪═══════════╪═══════════╪═══╪═══════════╪═════════╪═══════════╪═══════════╡\n",
       "│ INC0000077 ┆ CRM Appli ┆ War Room  ┆ User      ┆ … ┆ Issue_App ┆ 182     ┆ crm appli ┆ war room  │\n",
       "│ 66897      ┆ cation    ┆           ┆ Service   ┆   ┆ lication_ ┆         ┆ cation    ┆           │\n",
       "│            ┆ all Tab   ┆           ┆ Restorati ┆   ┆ Functiona ┆         ┆ all tab   ┆           │\n",
       "│            ┆ working … ┆           ┆ on        ┆   ┆ lity      ┆         ┆ working … ┆           │\n",
       "│ INC0000077 ┆ HR |      ┆ CM        ┆ User      ┆ … ┆ Critical  ┆ 124     ┆ hr |      ┆ cm        │\n",
       "│ 64771      ┆ VOICE TT  ┆ Support   ┆ Service   ┆   ┆ Applicati ┆         ┆ voice tt  ┆ support   │\n",
       "│            ┆ LOB -     ┆           ┆ Request   ┆   ┆ ons_CM    ┆         ┆ lob -     ┆           │\n",
       "│            ┆ CAMPAIGN  ┆           ┆           ┆   ┆ Applica…  ┆         ┆ campaign  ┆           │\n",
       "│            ┆ EDI…      ┆           ┆           ┆   ┆           ┆         ┆ edi…      ┆           │\n",
       "│ INC0000077 ┆ Pending   ┆ L1- CRM   ┆ User      ┆ … ┆ Critical  ┆ 173     ┆ pending   ┆ l1-crm    │\n",
       "│ 64731      ┆ Active    ┆ Postpaid  ┆ Service   ┆   ┆ Applicati ┆         ┆ active    ┆ postpaid  │\n",
       "│            ┆ Postpaid  ┆ Support   ┆ Restorati ┆   ┆ ons_CRM-P ┆         ┆ postpaid  ┆ support   │\n",
       "│            ┆ nos Nish… ┆           ┆ on        ┆   ┆ ostpa…    ┆         ┆ nos nish… ┆           │\n",
       "│ INC0000077 ┆ AV defini ┆ L1-Wintel ┆ User      ┆ … ┆ Other_oth ┆ 412     ┆ av defini ┆ l1-wintel │\n",
       "│ 64026      ┆ tions     ┆           ┆ Service   ┆   ┆ er_other  ┆         ┆ tions     ┆           │\n",
       "│            ┆ older     ┆           ┆ Request   ┆   ┆           ┆         ┆ older     ┆           │\n",
       "│            ┆ than 1    ┆           ┆           ┆   ┆           ┆         ┆ than 1    ┆           │\n",
       "│            ┆ day …     ┆           ┆           ┆   ┆           ┆         ┆ day …     ┆           │\n",
       "│ INC0000077 ┆ old Doc   ┆ L2 - CRM  ┆ User      ┆ … ┆ Issue_App ┆ 229     ┆ old doc   ┆ l2-crm    │\n",
       "│ 63904      ┆ not       ┆ Ops       ┆ Service   ┆   ┆ lication_ ┆         ┆ not       ┆ ops       │\n",
       "│            ┆ reflected ┆ Support   ┆ Restorati ┆   ┆ Services  ┆         ┆ reflected ┆ support   │\n",
       "│            ┆ in CRM    ┆           ┆ on        ┆   ┆           ┆         ┆ in crm    ┆           │\n",
       "│            ┆ Dea…      ┆           ┆           ┆   ┆           ┆         ┆ dea…      ┆           │\n",
       "└────────────┴───────────┴───────────┴───────────┴───┴───────────┴─────────┴───────────┴───────────┘"
      ]
     },
     "execution_count": 2,
     "metadata": {},
     "output_type": "execute_result"
    }
   ],
   "source": [
    "df = pol.read_csv(\"../data/vodafone_data_short_head_long_emails.csv\")\n",
    "df.head()"
   ]
  },
  {
   "cell_type": "code",
   "execution_count": 3,
   "id": "7cdbffef-0cc4-4401-8e5f-3fd267b70201",
   "metadata": {},
   "outputs": [
    {
     "data": {
      "text/plain": [
       "['sso-apm-wintel',\n",
       " 'cit-cpos-cpossupport',\n",
       " 'ra mediation-pune-metropolitan',\n",
       " 'l1-wintel',\n",
       " 'sso-wintel',\n",
       " 'recc',\n",
       " 'mobicule',\n",
       " 'amdocs_',\n",
       " 'l1-crm postpaid support',\n",
       " 'icb-nld',\n",
       " 'revenue assurance solution',\n",
       " 'cm support',\n",
       " 'service desk-fcr',\n",
       " 'l2-simex support',\n",
       " 'askevo',\n",
       " 'oracle l1 support',\n",
       " 'dispatcher',\n",
       " 'bss-myworld',\n",
       " 'sso-remedy',\n",
       " 'l2-ipops_cms support',\n",
       " 'iam-sarm',\n",
       " 'l2-cti support',\n",
       " 'css/ess-my vodafone',\n",
       " 'cit-upss-upss-support',\n",
       " 'crm_vas_cad_ocg_msg',\n",
       " 'l2-crm ops support',\n",
       " 'mediation',\n",
       " 'enterprise crm operation support',\n",
       " 'cs-pune-metropolitan',\n",
       " 'eus',\n",
       " 'billing operations',\n",
       " 'mva-ops',\n",
       " 'ro',\n",
       " 'sam operation ops',\n",
       " 'billing configuration',\n",
       " 'siebelcrm_hyper care_l1 ops_techm',\n",
       " 'disha crm-crm-pune-metropolitan',\n",
       " 'bi ',\n",
       " 'ebpp',\n",
       " 'security operations',\n",
       " 'sso-eai-reccpe',\n",
       " 'user id mgmt',\n",
       " 'iam provisioning',\n",
       " 'l2 dhruv support',\n",
       " 'tbo-mis-pune-metropolitan',\n",
       " 'project everest bpa',\n",
       " 'l2-nsms support',\n",
       " 'war room',\n",
       " 'application support',\n",
       " 'kms-vsearch-vault',\n",
       " 'central application-npg']"
      ]
     },
     "execution_count": 3,
     "metadata": {},
     "output_type": "execute_result"
    }
   ],
   "source": [
    "df[\"Assigned_Group_fixed\"].unique().to_list()"
   ]
  },
  {
   "cell_type": "code",
   "execution_count": 4,
   "id": "37b73c99-8960-499f-b993-c32cbc4b459b",
   "metadata": {
    "tags": []
   },
   "outputs": [],
   "source": [
    "# labels_for_few_shot = (\n",
    "#     df[\"Assigned_Group_fixed\"]\n",
    "#     .value_counts()\n",
    "#     .sort(by=\"counts\", descending=True)\n",
    "#     .head(5)[\"Assigned_Group_fixed\"]\n",
    "#     .to_list()\n",
    "# )\n",
    "\n",
    "labels_for_few_shot = [\"war room\", \"application support\", \"cm support\", \"billing operations\"]"
   ]
  },
  {
   "cell_type": "code",
   "execution_count": 5,
   "id": "bfb58562-0101-4be0-bc80-983f149011cd",
   "metadata": {
    "tags": []
   },
   "outputs": [
    {
     "name": "stdout",
     "output_type": "stream",
     "text": [
      "Original Data Shape: (11340, 9)\n",
      "Few Shot data shape: (426, 9)\n"
     ]
    }
   ],
   "source": [
    "df_few_shot = df.filter(pol.col(\"Assigned_Group_fixed\").is_in(labels_for_few_shot))\n",
    "print(f\"Original Data Shape: {df.shape}\")\n",
    "print(f\"Few Shot data shape: {df_few_shot.shape}\")"
   ]
  },
  {
   "cell_type": "code",
   "execution_count": 6,
   "id": "775812bc-5755-4cce-8939-ed09e9514cf3",
   "metadata": {
    "tags": []
   },
   "outputs": [],
   "source": [
    "df_few_shot.write_csv(\"../data/few_shot_short_head.csv\")"
   ]
  },
  {
   "cell_type": "code",
   "execution_count": null,
   "id": "52947a03-eed4-4b91-bba0-5140a72007b9",
   "metadata": {},
   "outputs": [],
   "source": []
  }
 ],
 "metadata": {
  "kernelspec": {
   "display_name": "Python 3 (ipykernel)",
   "language": "python",
   "name": "python3"
  },
  "language_info": {
   "codemirror_mode": {
    "name": "ipython",
    "version": 3
   },
   "file_extension": ".py",
   "mimetype": "text/x-python",
   "name": "python",
   "nbconvert_exporter": "python",
   "pygments_lexer": "ipython3",
   "version": "3.12.1"
  }
 },
 "nbformat": 4,
 "nbformat_minor": 5
}
