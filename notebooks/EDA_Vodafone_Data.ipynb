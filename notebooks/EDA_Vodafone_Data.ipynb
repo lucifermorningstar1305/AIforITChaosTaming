{
 "cells": [
  {
   "cell_type": "code",
   "execution_count": 1,
   "id": "99b2ed9c-b2cd-4d95-a110-6389262d0a25",
   "metadata": {
    "tags": []
   },
   "outputs": [],
   "source": [
    "import os\n",
    "import re\n",
    "import sys\n",
    "from email import policy\n",
    "from email.parser import Parser\n",
    "from typing import Any, Dict, List, Optional, Tuple\n",
    "\n",
    "import matplotlib.pyplot as plt\n",
    "import numpy as np\n",
    "import polars as pol\n",
    "import seaborn as sns\n",
    "from nltk.tokenize import word_tokenize"
   ]
  },
  {
   "cell_type": "code",
   "execution_count": 2,
   "id": "ede070d1-99d7-4f31-84c5-1aa589d32f90",
   "metadata": {
    "tags": []
   },
   "outputs": [
    {
     "data": {
      "text/html": [
       "<div><style>\n",
       ".dataframe > thead > tr > th,\n",
       ".dataframe > tbody > tr > td {\n",
       "  text-align: right;\n",
       "  white-space: pre-wrap;\n",
       "}\n",
       "</style>\n",
       "<small>shape: (5, 6)</small><table border=\"1\" class=\"dataframe\"><thead><tr><th>Incident_No</th><th>Description</th><th>Assigned_Group</th><th>Incident_Type</th><th>Production_Category</th><th>Operational_Category</th></tr><tr><td>str</td><td>str</td><td>str</td><td>str</td><td>str</td><td>str</td></tr></thead><tbody><tr><td>&quot;INC00000776728…</td><td>&quot;Please resolve…</td><td>&quot;AskEvo&quot;</td><td>&quot;User Service R…</td><td>&quot;Application_De…</td><td>&quot;Issue_Applicat…</td></tr><tr><td>&quot;INC00000776724…</td><td>&quot;New Campaign |…</td><td>&quot;CM Support&quot;</td><td>&quot;User Service R…</td><td>&quot;Business Appli…</td><td>&quot;Critical Appli…</td></tr><tr><td>&quot;INC00000776689…</td><td>&quot;CRM Applicatio…</td><td>&quot;War Room&quot;</td><td>&quot;User Service R…</td><td>&quot;Business Appli…</td><td>&quot;Issue_Applicat…</td></tr><tr><td>&quot;INC00000776650…</td><td>&quot;Kindly do my o…</td><td>&quot;Onboarding/Off…</td><td>&quot;User Service R…</td><td>&quot;Business Appli…</td><td>&quot;SDP - CG_other…</td></tr><tr><td>&quot;INC00000776602…</td><td>&quot;vpn id not wor…</td><td>&quot;Dispatcher&quot;</td><td>&quot;User Service R…</td><td>&quot;Software_Opera…</td><td>&quot;Issue_Access_F…</td></tr></tbody></table></div>"
      ],
      "text/plain": [
       "shape: (5, 6)\n",
       "┌────────────────┬────────────────┬────────────────┬───────────────┬───────────────┬───────────────┐\n",
       "│ Incident_No    ┆ Description    ┆ Assigned_Group ┆ Incident_Type ┆ Production_Ca ┆ Operational_C │\n",
       "│ ---            ┆ ---            ┆ ---            ┆ ---           ┆ tegory        ┆ ategory       │\n",
       "│ str            ┆ str            ┆ str            ┆ str           ┆ ---           ┆ ---           │\n",
       "│                ┆                ┆                ┆               ┆ str           ┆ str           │\n",
       "╞════════════════╪════════════════╪════════════════╪═══════════════╪═══════════════╪═══════════════╡\n",
       "│ INC00000776728 ┆ Please resolve ┆ AskEvo         ┆ User Service  ┆ Application_D ┆ Issue_Applica │\n",
       "│ 4              ┆ Urgently       ┆                ┆ Restoration   ┆ esktop        ┆ tion_Function │\n",
       "│                ┆  …             ┆                ┆               ┆ Application_… ┆ ality         │\n",
       "│ INC00000776724 ┆ New Campaign | ┆ CM Support     ┆ User Service  ┆ Business Appl ┆ Critical Appl │\n",
       "│ 3              ┆ Orissa | Data  ┆                ┆ Request       ┆ ications_Cent ┆ ications_CM   │\n",
       "│                ┆ Seg…           ┆                ┆               ┆ ral Ap…       ┆ Applica…      │\n",
       "│ INC00000776689 ┆ CRM            ┆ War Room       ┆ User Service  ┆ Business Appl ┆ Issue_Applica │\n",
       "│ 7              ┆ Application    ┆                ┆ Restoration   ┆ ications_Cent ┆ tion_Function │\n",
       "│                ┆ all Tab        ┆                ┆               ┆ ral Ap…       ┆ ality         │\n",
       "│                ┆ working …      ┆                ┆               ┆               ┆               │\n",
       "│ INC00000776650 ┆ Kindly do my   ┆ Onboarding/Off ┆ User Service  ┆ Business Appl ┆ SDP - CG_othe │\n",
       "│ 1              ┆ onboarding     ┆ boarding       ┆ Request       ┆ ication_Centr ┆ r_other       │\n",
       "│                ┆ Dear Tea…      ┆                ┆               ┆ al App…       ┆               │\n",
       "│ INC00000776602 ┆ vpn id not     ┆ Dispatcher     ┆ User Service  ┆ Software_Oper ┆ Issue_Access_ │\n",
       "│ 9              ┆ working   Hi   ┆                ┆ Restoration   ┆ ating         ┆ Failure       │\n",
       "│                ┆ team,   …      ┆                ┆               ┆ System_Wintel ┆               │\n",
       "└────────────────┴────────────────┴────────────────┴───────────────┴───────────────┴───────────────┘"
      ]
     },
     "execution_count": 2,
     "metadata": {},
     "output_type": "execute_result"
    }
   ],
   "source": [
    "df = pol.read_csv(\"../data/Vodafone_IDEA_data.csv\")\n",
    "df.head()"
   ]
  },
  {
   "cell_type": "code",
   "execution_count": 3,
   "id": "f61a1f49-751b-4b65-a9f9-1d401e8adac1",
   "metadata": {
    "tags": []
   },
   "outputs": [
    {
     "data": {
      "text/plain": [
       "(50968, 6)"
      ]
     },
     "execution_count": 3,
     "metadata": {},
     "output_type": "execute_result"
    }
   ],
   "source": [
    "df.shape"
   ]
  },
  {
   "cell_type": "code",
   "execution_count": 4,
   "id": "b42cd083-e0b9-44b3-988b-347347d1decd",
   "metadata": {
    "tags": []
   },
   "outputs": [],
   "source": [
    "def extract_email_body(raw_email: str) -> str:\n",
    "    \"\"\"Function to extract the email body from the raw text\"\"\"\n",
    "    email_parser = Parser(policy=policy.default)\n",
    "    email_obj = email_parser.parsestr(raw_email)\n",
    "    email_body = email_obj.get_body().get_content()\n",
    "    return email_body\n",
    "\n",
    "\n",
    "def clean_text(text: str) -> str:\n",
    "    \"\"\"Cleans email text by removing headers, footers, quoted text, signatures and additional text cleaning process\"\"\"\n",
    "\n",
    "    # Removes Subject\n",
    "    # text = re.sub(r\"^.*?Subject:.*$\", \"\", text, flags=re.MULTILINE)\n",
    "\n",
    "    # Removes signatures\n",
    "    text = re.sub(r\"--\\n.*\", \" \", text, flags=re.MULTILINE | re.DOTALL)\n",
    "    # Removes quoted text\n",
    "    text = re.sub(r\">.*\\n?\", \" \", text, flags=re.MULTILINE)\n",
    "    # Removes HTML Tags\n",
    "    text = re.sub(r\"<.*?>\", \"\", text)\n",
    "    # Removes URLs\n",
    "    text = re.sub(r\"http[s]?://\\S+\", \" \", text)\n",
    "    # Removes email addresses\n",
    "    text = re.sub(r\"\\b[A-Za-z0-9._%+-]+@[A-Za-z0-9.-]+\\.[A-Z|a-z]{2,}\\b\", \" \", text)\n",
    "\n",
    "    # Normalize whitespace to a single space\n",
    "    text = re.sub(r\"[\\n\\s]+\", \" \", text).strip()\n",
    "\n",
    "    # Convert to lowercase\n",
    "    text = text.lower()\n",
    "\n",
    "    # Removes sign-offs\n",
    "    text = re.sub(\n",
    "        r\"(regards|best regards|thanks|cheers|best|sincerely),?.*\\n.*\",\n",
    "        \"\",\n",
    "        text,\n",
    "        flags=re.IGNORECASE | re.DOTALL,\n",
    "    )\n",
    "\n",
    "    # Remove special characters\n",
    "    text = re.sub(r\"[^a-zA-Z0-9\\s]\", \"\", text)\n",
    "\n",
    "    return text\n",
    "\n",
    "\n",
    "def get_n_words(text: str) -> int:\n",
    "    \"\"\"Function to obtain the number of words in a text\"\"\"\n",
    "    text = extract_email_body(text)\n",
    "    text = clean_text(text)\n",
    "    words = word_tokenize(text)\n",
    "    return len(words)"
   ]
  },
  {
   "cell_type": "code",
   "execution_count": 5,
   "id": "76ab917a-b72e-48e2-b9db-3403bf1ac649",
   "metadata": {
    "tags": []
   },
   "outputs": [],
   "source": [
    "df = df.with_columns(\n",
    "    (pol.col(\"Description\").map_elements(lambda x: get_n_words(x))).alias(\"n_words\")\n",
    ")\n",
    "\n",
    "df = df.with_columns(\n",
    "    (\n",
    "        pol.col(\"Description\").map_elements(lambda x: clean_text(extract_email_body(x)))\n",
    "    ).alias(\"clean_text\")\n",
    ")"
   ]
  },
  {
   "cell_type": "code",
   "execution_count": 6,
   "id": "9b6dcf4c-feb1-4404-85ed-68130f26f7d3",
   "metadata": {
    "tags": []
   },
   "outputs": [
    {
     "data": {
      "text/html": [
       "<div><style>\n",
       ".dataframe > thead > tr > th,\n",
       ".dataframe > tbody > tr > td {\n",
       "  text-align: right;\n",
       "  white-space: pre-wrap;\n",
       "}\n",
       "</style>\n",
       "<small>shape: (1, 8)</small><table border=\"1\" class=\"dataframe\"><thead><tr><th>Incident_No</th><th>Description</th><th>Assigned_Group</th><th>Incident_Type</th><th>Production_Category</th><th>Operational_Category</th><th>n_words</th><th>clean_text</th></tr><tr><td>u32</td><td>u32</td><td>u32</td><td>u32</td><td>u32</td><td>u32</td><td>u32</td><td>u32</td></tr></thead><tbody><tr><td>0</td><td>0</td><td>0</td><td>0</td><td>0</td><td>0</td><td>0</td><td>0</td></tr></tbody></table></div>"
      ],
      "text/plain": [
       "shape: (1, 8)\n",
       "┌────────────┬────────────┬────────────┬────────────┬────────────┬───────────┬─────────┬───────────┐\n",
       "│ Incident_N ┆ Descriptio ┆ Assigned_G ┆ Incident_T ┆ Production ┆ Operation ┆ n_words ┆ clean_tex │\n",
       "│ o          ┆ n          ┆ roup       ┆ ype        ┆ _Category  ┆ al_Catego ┆ ---     ┆ t         │\n",
       "│ ---        ┆ ---        ┆ ---        ┆ ---        ┆ ---        ┆ ry        ┆ u32     ┆ ---       │\n",
       "│ u32        ┆ u32        ┆ u32        ┆ u32        ┆ u32        ┆ ---       ┆         ┆ u32       │\n",
       "│            ┆            ┆            ┆            ┆            ┆ u32       ┆         ┆           │\n",
       "╞════════════╪════════════╪════════════╪════════════╪════════════╪═══════════╪═════════╪═══════════╡\n",
       "│ 0          ┆ 0          ┆ 0          ┆ 0          ┆ 0          ┆ 0         ┆ 0       ┆ 0         │\n",
       "└────────────┴────────────┴────────────┴────────────┴────────────┴───────────┴─────────┴───────────┘"
      ]
     },
     "execution_count": 6,
     "metadata": {},
     "output_type": "execute_result"
    }
   ],
   "source": [
    "df.null_count()"
   ]
  },
  {
   "cell_type": "code",
   "execution_count": 7,
   "id": "bec8916b-655c-4737-bc29-0f57d29c03d7",
   "metadata": {
    "tags": []
   },
   "outputs": [
    {
     "name": "stderr",
     "output_type": "stream",
     "text": [
      "/home/darthvader/miniconda3/envs/expenv/lib/python3.11/site-packages/seaborn/_oldcore.py:1119: FutureWarning: use_inf_as_na option is deprecated and will be removed in a future version. Convert inf values to NaN before operating instead.\n",
      "  with pd.option_context('mode.use_inf_as_na', True):\n"
     ]
    },
    {
     "data": {
      "image/png": "[encoded data removed]",
      "text/plain": [
       "<Figure size 800x500 with 1 Axes>"
      ]
     },
     "metadata": {},
     "output_type": "display_data"
    }
   ],
   "source": [
    "plt.figure(figsize=(8, 5))\n",
    "sns.histplot(data=df, x=\"n_words\")\n",
    "plt.show()"
   ]
  },
  {
   "cell_type": "code",
   "execution_count": 8,
   "id": "c858c8ae-18a1-4a7e-8146-e17cb38190a7",
   "metadata": {
    "tags": []
   },
   "outputs": [],
   "source": [
    "def get_n_word_stats(data: pol.DataFrame, quantiles: List):\n",
    "    \"\"\"Function to showcase the stats of the data when certain texts are eliminated.\"\"\"\n",
    "\n",
    "    for quantile in quantiles:\n",
    "        n_words = data[\"n_words\"].to_list()\n",
    "        threshold = np.quantile(n_words, quantile)\n",
    "        new_df = data.filter(pol.col(\"n_words\") >= threshold)\n",
    "        data_percent = new_df.shape[0] / data.shape[0] * 100\n",
    "        print(\n",
    "            f\"Quantile: {quantile}, Threshold: {threshold}, No. of records of new data: {new_df.shape[0]}, percent of data: {data_percent:.2f}%\"\n",
    "        )"
   ]
  },
  {
   "cell_type": "code",
   "execution_count": 9,
   "id": "e867a2f0-b9ad-4c5e-b6d0-f8671b6e2064",
   "metadata": {
    "tags": []
   },
   "outputs": [
    {
     "name": "stdout",
     "output_type": "stream",
     "text": [
      "Quantile: 0.05, Threshold: 2.0, No. of records of new data: 48445, percent of data: 95.05%\n",
      "Quantile: 0.09, Threshold: 10.0, No. of records of new data: 46854, percent of data: 91.93%\n",
      "Quantile: 0.1, Threshold: 11.0, No. of records of new data: 46026, percent of data: 90.30%\n",
      "Quantile: 0.15, Threshold: 15.0, No. of records of new data: 43359, percent of data: 85.07%\n",
      "Quantile: 0.25, Threshold: 21.0, No. of records of new data: 38349, percent of data: 75.24%\n",
      "Quantile: 0.5, Threshold: 38.0, No. of records of new data: 25592, percent of data: 50.21%\n",
      "Quantile: 0.75, Threshold: 64.0, No. of records of new data: 12811, percent of data: 25.14%\n",
      "Quantile: 0.8, Threshold: 72.0, No. of records of new data: 10426, percent of data: 20.46%\n",
      "Quantile: 0.85, Threshold: 86.0, No. of records of new data: 7668, percent of data: 15.04%\n",
      "Quantile: 0.9, Threshold: 122.0, No. of records of new data: 5114, percent of data: 10.03%\n",
      "Quantile: 0.95, Threshold: 236.0, No. of records of new data: 2559, percent of data: 5.02%\n",
      "Quantile: 0.99, Threshold: 530.0, No. of records of new data: 531, percent of data: 1.04%\n"
     ]
    }
   ],
   "source": [
    "get_n_word_stats(\n",
    "    df, [0.05, 0.09, 0.1, 0.15, 0.25, 0.5, 0.75, 0.8, 0.85, 0.9, 0.95, 0.99]\n",
    ")"
   ]
  },
  {
   "cell_type": "code",
   "execution_count": 10,
   "id": "84c40c8f-038b-43fe-8db3-b0d93e36a9ed",
   "metadata": {
    "tags": []
   },
   "outputs": [
    {
     "name": "stdout",
     "output_type": "stream",
     "text": [
      "Shape of the original data: (50968, 8)\n",
      "Shape of the filtered data: (48146, 8)\n"
     ]
    }
   ],
   "source": [
    "df_filtered = df.filter(pol.col(\"n_words\") >= 5)\n",
    "\n",
    "print(f\"Shape of the original data: {df.shape}\")\n",
    "print(f\"Shape of the filtered data: {df_filtered.shape}\")"
   ]
  },
  {
   "cell_type": "code",
   "execution_count": 11,
   "id": "bd1cdb1e-3b96-4230-88e1-1dbd91cc5427",
   "metadata": {
    "tags": []
   },
   "outputs": [],
   "source": [
    "def fix_labels(label: str):\n",
    "    \"\"\"Function to remove extra spacing in labels\"\"\"\n",
    "    label = label.lower()\n",
    "    label = label.strip()\n",
    "    label = re.sub(r\"\\s+\", \" \", label)\n",
    "    label = re.sub(r\"\\s-\\s\", \"-\", label)\n",
    "    label = re.sub(r\"-\\s\", \"-\", label)\n",
    "    label = re.sub(r\"\\s-\", \"-\", label)\n",
    "    label = re.sub(r\"sso-support-.*\", \"sso-upport\", label)\n",
    "    label = re.sub(r\"sso-opssupport-.*\", \"sso-opssupport\", label)\n",
    "    label = re.sub(r\".*?-application support\", \"application support\", label)\n",
    "    label = re.sub(r\"sso-unix?-.*\", \"sso-unix\", label)\n",
    "    label = re.sub(r\"ro-.*\", \"ro\", label)\n",
    "    label = re.sub(r\"zo-.*\", \"zo\", label)\n",
    "    label = re.sub(r\"msc[+]zo?.*\", \"zo\", label)\n",
    "    label = re.sub(r\"zo[+].*\", \"zo\", label)\n",
    "    label = re.sub(r\"ro[+].*\", \"ro\", label)\n",
    "    label = re.sub(r\".*eus-.*\", \"eus\", label)\n",
    "    label = re.sub(r\".*network-.*\", \"network\", label)\n",
    "    label = re.sub(r\"wh-.*\", \"wh\", label)\n",
    "    label = re.sub(r\"ho-.*\", \"ho\", label)\n",
    "\n",
    "    if \"rhythm\" in label:\n",
    "        label = label.replace(\"rhythm\", \"\")\n",
    "\n",
    "    if \"jazz\" in label:\n",
    "        label = label.replace(\"jazz\", \"\")\n",
    "\n",
    "    if \"blue\" in label or \"blues\" in label:\n",
    "        label = label.replace(\"blue\", \"\").replace(\"blues\", \"\")\n",
    "\n",
    "    if \"dispatcher\" in label and label != \"dispatcher\":\n",
    "        label = label.replace(\"dispatcher\", \"\")\n",
    "\n",
    "    if label.endswith(\"-\"):\n",
    "        label = label[:-1]\n",
    "\n",
    "    return label"
   ]
  },
  {
   "cell_type": "code",
   "execution_count": 12,
   "id": "1f8ccdbf-0d71-4162-9537-8dc10b59dd11",
   "metadata": {
    "tags": []
   },
   "outputs": [],
   "source": [
    "df_filtered = df_filtered.with_columns(\n",
    "    (pol.col(\"Assigned_Group\").map_elements(lambda x: fix_labels(x))).alias(\n",
    "        \"Assigned_Group_fixed\"\n",
    "    )\n",
    ")"
   ]
  },
  {
   "cell_type": "code",
   "execution_count": 13,
   "id": "6997fcab-ce3d-461a-8002-95b1bff53465",
   "metadata": {
    "tags": []
   },
   "outputs": [
    {
     "data": {
      "text/plain": [
       "300"
      ]
     },
     "execution_count": 13,
     "metadata": {},
     "output_type": "execute_result"
    }
   ],
   "source": [
    "unique_labels = df_filtered[\"Assigned_Group_fixed\"].unique().to_list()\n",
    "len(unique_labels)"
   ]
  },
  {
   "cell_type": "code",
   "execution_count": 14,
   "id": "b1932cba-9243-4240-89cd-e8421f14504b",
   "metadata": {
    "tags": []
   },
   "outputs": [],
   "source": [
    "def filter_labels(labels: str, search_label: str) -> list:\n",
    "    \"\"\"Function to filter labels based on search labels\"\"\"\n",
    "\n",
    "    return list(filter(lambda x: search_label in x, labels))"
   ]
  },
  {
   "cell_type": "code",
   "execution_count": 15,
   "id": "a974eb57-b7c3-4f86-a040-3482e428d8d8",
   "metadata": {
    "tags": []
   },
   "outputs": [],
   "source": [
    "def freq_label_record(data: pol.DataFrame, label: str):\n",
    "    \"\"\"Function to obtain the frequency of a specific label\"\"\"\n",
    "    n_rec = len(\n",
    "        data.filter(pol.col(\"Assigned_Group_fixed\").is_in([label]))[\n",
    "            \"Description\"\n",
    "        ].to_list()\n",
    "    )\n",
    "    return n_rec"
   ]
  },
  {
   "cell_type": "code",
   "execution_count": 16,
   "id": "32b2dda7-4000-4315-8a0a-0f16ae03d775",
   "metadata": {
    "tags": []
   },
   "outputs": [
    {
     "name": "stderr",
     "output_type": "stream",
     "text": [
      "/home/darthvader/miniconda3/envs/expenv/lib/python3.11/site-packages/seaborn/_oldcore.py:1119: FutureWarning: use_inf_as_na option is deprecated and will be removed in a future version. Convert inf values to NaN before operating instead.\n",
      "  with pd.option_context('mode.use_inf_as_na', True):\n"
     ]
    },
    {
     "data": {
      "image/png": "[encoded data removed]",
      "text/plain": [
       "<Figure size 1200x1000 with 1 Axes>"
      ]
     },
     "metadata": {},
     "output_type": "display_data"
    }
   ],
   "source": [
    "plt.figure(figsize=(12, 10))\n",
    "sns.histplot(\n",
    "    data=df_filtered, x=df_filtered[\"Assigned_Group_fixed\"].value_counts()[\"counts\"]\n",
    ")\n",
    "plt.axvline(x=100, color=\"orangered\", label=\"100\", linestyle=\"--\")\n",
    "plt.xlabel(\"Frequency of each label\")\n",
    "plt.ylabel(\"Frequency\")\n",
    "plt.show()"
   ]
  },
  {
   "cell_type": "code",
   "execution_count": 17,
   "id": "81e74cd8-ecfc-48f2-aa75-0ef5ba7291d1",
   "metadata": {
    "tags": []
   },
   "outputs": [],
   "source": [
    "def get_stats_label_count(data: pol.DataFrame, quantiles: List):\n",
    "    \"\"\"Function to calculate the number of unique labels for each quantile value (Long-tail cutoff)\"\"\"\n",
    "\n",
    "    value_counts = data[\"Assigned_Group_fixed\"].value_counts()\n",
    "\n",
    "    for quantile in quantiles:\n",
    "        threshold_label_count = np.quantile(value_counts[\"counts\"].to_list(), quantile)\n",
    "        new_value_counts = value_counts.filter(\n",
    "            pol.col(\"counts\") >= threshold_label_count\n",
    "        )\n",
    "        labels = value_counts.filter(pol.col(\"counts\") >= threshold_label_count)[\n",
    "            \"Assigned_Group_fixed\"\n",
    "        ].to_list()\n",
    "\n",
    "        new_df = data.filter((pol.col(\"Assigned_Group_fixed\").is_in(labels)))\n",
    "        percent_of_data = new_df.shape[0] / data.shape[0] * 100\n",
    "\n",
    "        print(\n",
    "            f\"Quantile: {quantile}, Threshold (label count): {threshold_label_count}, No. of Unique labels: {len(new_value_counts['Assigned_Group_fixed'].to_list())}, Percentage of Data: {percent_of_data:.3f}\"\n",
    "        )"
   ]
  },
  {
   "cell_type": "code",
   "execution_count": 18,
   "id": "9cd38716-6305-4f89-a439-cf35e645aacd",
   "metadata": {
    "tags": []
   },
   "outputs": [
    {
     "name": "stdout",
     "output_type": "stream",
     "text": [
      "Quantile: 0.5, Threshold (label count): 13.0, No. of Unique labels: 151, Percentage of Data: 99.030\n",
      "Quantile: 0.75, Threshold (label count): 65.25, No. of Unique labels: 75, Percentage of Data: 93.910\n",
      "Quantile: 0.8, Threshold (label count): 123.40000000000003, No. of Unique labels: 60, Percentage of Data: 91.029\n",
      "Quantile: 0.85, Threshold (label count): 191.45000000000002, No. of Unique labels: 45, Percentage of Data: 85.837\n",
      "Quantile: 0.9, Threshold (label count): 292.9000000000002, No. of Unique labels: 30, Percentage of Data: 78.767\n",
      "Quantile: 0.95, Threshold (label count): 460.4000000000008, No. of Unique labels: 15, Percentage of Data: 67.341\n",
      "Quantile: 0.99, Threshold (label count): 3838.629999999992, No. of Unique labels: 3, Percentage of Data: 32.927\n"
     ]
    }
   ],
   "source": [
    "get_stats_label_count(df_filtered, [0.5, 0.75, 0.8, 0.85, 0.9, 0.95, 0.99])"
   ]
  },
  {
   "cell_type": "code",
   "execution_count": 19,
   "id": "83d5558b-2f22-4726-a3da-9edb87a44e13",
   "metadata": {
    "tags": []
   },
   "outputs": [
    {
     "data": {
      "text/html": [
       "<div><style>\n",
       ".dataframe > thead > tr > th,\n",
       ".dataframe > tbody > tr > td {\n",
       "  text-align: right;\n",
       "  white-space: pre-wrap;\n",
       "}\n",
       "</style>\n",
       "<small>shape: (5, 2)</small><table border=\"1\" class=\"dataframe\"><thead><tr><th>Assigned_Group_fixed</th><th>counts</th></tr><tr><td>str</td><td>u32</td></tr></thead><tbody><tr><td>&quot;iam-sarm&quot;</td><td>6352</td></tr><tr><td>&quot;service desk-f…</td><td>4808</td></tr><tr><td>&quot;dispatcher&quot;</td><td>4693</td></tr><tr><td>&quot;cit-cpos-cposs…</td><td>3830</td></tr><tr><td>&quot;l1-crm postpai…</td><td>3052</td></tr></tbody></table></div>"
      ],
      "text/plain": [
       "shape: (5, 2)\n",
       "┌─────────────────────────┬────────┐\n",
       "│ Assigned_Group_fixed    ┆ counts │\n",
       "│ ---                     ┆ ---    │\n",
       "│ str                     ┆ u32    │\n",
       "╞═════════════════════════╪════════╡\n",
       "│ iam-sarm                ┆ 6352   │\n",
       "│ service desk-fcr        ┆ 4808   │\n",
       "│ dispatcher              ┆ 4693   │\n",
       "│ cit-cpos-cpossupport    ┆ 3830   │\n",
       "│ l1-crm postpaid support ┆ 3052   │\n",
       "└─────────────────────────┴────────┘"
      ]
     },
     "execution_count": 19,
     "metadata": {},
     "output_type": "execute_result"
    }
   ],
   "source": [
    "value_counts = (\n",
    "    df_filtered[\"Assigned_Group_fixed\"]\n",
    "    .value_counts()\n",
    "    .sort(by=\"counts\", descending=True)\n",
    ")\n",
    "value_counts.head()"
   ]
  },
  {
   "cell_type": "code",
   "execution_count": 20,
   "id": "711094a1-6034-4891-8c8b-469bae8c02b1",
   "metadata": {
    "tags": []
   },
   "outputs": [
    {
     "name": "stdout",
     "output_type": "stream",
     "text": [
      "Shape of the Short-Head data: (43950, 9)\n",
      "Shape of the Long-Tail data: (4196, 9)\n"
     ]
    }
   ],
   "source": [
    "short_head_labels = value_counts.filter(pol.col(\"counts\") >= 123)[\n",
    "    \"Assigned_Group_fixed\"\n",
    "].to_list()\n",
    "\n",
    "\n",
    "df_short_head = df_filtered.filter(\n",
    "    pol.col(\"Assigned_Group_fixed\").is_in(short_head_labels)\n",
    ")\n",
    "df_long_tail = df_filtered.filter(\n",
    "    ~pol.col(\"Assigned_Group_fixed\").is_in(short_head_labels)\n",
    ")\n",
    "\n",
    "print(f\"Shape of the Short-Head data: {df_short_head.shape}\")\n",
    "print(f\"Shape of the Long-Tail data: {df_long_tail.shape}\")"
   ]
  },
  {
   "cell_type": "code",
   "execution_count": 21,
   "id": "776bbc37-0c4e-46ef-9eee-06aecd8d8acf",
   "metadata": {
    "tags": []
   },
   "outputs": [],
   "source": [
    "df_short_head.write_csv(\"../data/vodafone_data_short_head.csv\", separator=\",\")\n",
    "df_long_tail.write_csv(\"../data/vodafone_data_long_tail.csv\", separator=\",\")"
   ]
  },
  {
   "cell_type": "code",
   "execution_count": null,
   "id": "fbe12a35-ef0e-4504-8213-86ca7e92b299",
   "metadata": {},
   "outputs": [],
   "source": []
  },
  {
   "cell_type": "code",
   "execution_count": null,
   "id": "623128ab-20ca-4e10-8a28-e397498aa197",
   "metadata": {},
   "outputs": [],
   "source": []
  }
 ],
 "metadata": {
  "kernelspec": {
   "display_name": "Python 3 (ipykernel)",
   "language": "python",
   "name": "python3"
  },
  "language_info": {
   "codemirror_mode": {
    "name": "ipython",
    "version": 3
   },
   "file_extension": ".py",
   "mimetype": "text/x-python",
   "name": "python",
   "nbconvert_exporter": "python",
   "pygments_lexer": "ipython3",
   "version": "3.11.7"
  }
 },
 "nbformat": 4,
 "nbformat_minor": 5
}
