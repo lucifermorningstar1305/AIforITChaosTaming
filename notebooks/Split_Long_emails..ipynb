{
 "cells": [
  {
   "cell_type": "code",
   "execution_count": 1,
   "id": "3e5e971d-0480-4cb0-afec-bcc85d0c6507",
   "metadata": {
    "tags": []
   },
   "outputs": [],
   "source": [
    "import json\n",
    "import os\n",
    "\n",
    "import numpy as np\n",
    "import polars as pol\n",
    "from sklearn.model_selection import train_test_split"
   ]
  },
  {
   "cell_type": "code",
   "execution_count": 2,
   "id": "5c3e7786-3bb4-4cbc-bb5c-3a7397d89f97",
   "metadata": {
    "tags": []
   },
   "outputs": [],
   "source": [
    "df = pol.read_csv(\"../data/vodafone_data_short_head_long_emails.csv\")"
   ]
  },
  {
   "cell_type": "code",
   "execution_count": 3,
   "id": "c6891eba-4540-4012-a096-bc1574f36fcd",
   "metadata": {
    "tags": []
   },
   "outputs": [
    {
     "data": {
      "text/html": [
       "<div><style>\n",
       ".dataframe > thead > tr > th,\n",
       ".dataframe > tbody > tr > td {\n",
       "  text-align: right;\n",
       "  white-space: pre-wrap;\n",
       "}\n",
       "</style>\n",
       "<small>shape: (5, 9)</small><table border=\"1\" class=\"dataframe\"><thead><tr><th>Incident_No</th><th>Description</th><th>Assigned_Group</th><th>Incident_Type</th><th>Production_Category</th><th>Operational_Category</th><th>n_words</th><th>clean_text</th><th>Assigned_Group_fixed</th></tr><tr><td>str</td><td>str</td><td>str</td><td>str</td><td>str</td><td>str</td><td>i64</td><td>str</td><td>str</td></tr></thead><tbody><tr><td>&quot;INC00000776689…</td><td>&quot;CRM Applicatio…</td><td>&quot;War Room&quot;</td><td>&quot;User Service R…</td><td>&quot;Business Appli…</td><td>&quot;Issue_Applicat…</td><td>182</td><td>&quot;crm applicatio…</td><td>&quot;war room&quot;</td></tr><tr><td>&quot;INC00000776477…</td><td>&quot;HR | VOICE TT …</td><td>&quot;CM Support&quot;</td><td>&quot;User Service R…</td><td>&quot;Business Appli…</td><td>&quot;Critical Appli…</td><td>124</td><td>&quot;hr | voice tt …</td><td>&quot;cm support&quot;</td></tr><tr><td>&quot;INC00000776473…</td><td>&quot;Pending Active…</td><td>&quot;L1- CRM Postpa…</td><td>&quot;User Service R…</td><td>&quot;Business Appli…</td><td>&quot;Critical Appli…</td><td>173</td><td>&quot;pending active…</td><td>&quot;l1-crm postpai…</td></tr><tr><td>&quot;INC00000776402…</td><td>&quot;AV definitions…</td><td>&quot;L1-Wintel&quot;</td><td>&quot;User Service R…</td><td>&quot;Software_Opera…</td><td>&quot;Other_other_ot…</td><td>412</td><td>&quot;av definitions…</td><td>&quot;l1-wintel&quot;</td></tr><tr><td>&quot;INC00000776390…</td><td>&quot;old Doc not re…</td><td>&quot;L2 - CRM Ops S…</td><td>&quot;User Service R…</td><td>&quot;Business Appli…</td><td>&quot;Issue_Applicat…</td><td>229</td><td>&quot;old doc not re…</td><td>&quot;l2-crm ops sup…</td></tr></tbody></table></div>"
      ],
      "text/plain": [
       "shape: (5, 9)\n",
       "┌────────────┬───────────┬───────────┬───────────┬───┬───────────┬─────────┬───────────┬───────────┐\n",
       "│ Incident_N ┆ Descripti ┆ Assigned_ ┆ Incident_ ┆ … ┆ Operation ┆ n_words ┆ clean_tex ┆ Assigned_ │\n",
       "│ o          ┆ on        ┆ Group     ┆ Type      ┆   ┆ al_Catego ┆ ---     ┆ t         ┆ Group_fix │\n",
       "│ ---        ┆ ---       ┆ ---       ┆ ---       ┆   ┆ ry        ┆ i64     ┆ ---       ┆ ed        │\n",
       "│ str        ┆ str       ┆ str       ┆ str       ┆   ┆ ---       ┆         ┆ str       ┆ ---       │\n",
       "│            ┆           ┆           ┆           ┆   ┆ str       ┆         ┆           ┆ str       │\n",
       "╞════════════╪═══════════╪═══════════╪═══════════╪═══╪═══════════╪═════════╪═══════════╪═══════════╡\n",
       "│ INC0000077 ┆ CRM Appli ┆ War Room  ┆ User      ┆ … ┆ Issue_App ┆ 182     ┆ crm appli ┆ war room  │\n",
       "│ 66897      ┆ cation    ┆           ┆ Service   ┆   ┆ lication_ ┆         ┆ cation    ┆           │\n",
       "│            ┆ all Tab   ┆           ┆ Restorati ┆   ┆ Functiona ┆         ┆ all tab   ┆           │\n",
       "│            ┆ working … ┆           ┆ on        ┆   ┆ lity      ┆         ┆ working … ┆           │\n",
       "│ INC0000077 ┆ HR |      ┆ CM        ┆ User      ┆ … ┆ Critical  ┆ 124     ┆ hr |      ┆ cm        │\n",
       "│ 64771      ┆ VOICE TT  ┆ Support   ┆ Service   ┆   ┆ Applicati ┆         ┆ voice tt  ┆ support   │\n",
       "│            ┆ LOB -     ┆           ┆ Request   ┆   ┆ ons_CM    ┆         ┆ lob -     ┆           │\n",
       "│            ┆ CAMPAIGN  ┆           ┆           ┆   ┆ Applica…  ┆         ┆ campaign  ┆           │\n",
       "│            ┆ EDI…      ┆           ┆           ┆   ┆           ┆         ┆ edi…      ┆           │\n",
       "│ INC0000077 ┆ Pending   ┆ L1- CRM   ┆ User      ┆ … ┆ Critical  ┆ 173     ┆ pending   ┆ l1-crm    │\n",
       "│ 64731      ┆ Active    ┆ Postpaid  ┆ Service   ┆   ┆ Applicati ┆         ┆ active    ┆ postpaid  │\n",
       "│            ┆ Postpaid  ┆ Support   ┆ Restorati ┆   ┆ ons_CRM-P ┆         ┆ postpaid  ┆ support   │\n",
       "│            ┆ nos Nish… ┆           ┆ on        ┆   ┆ ostpa…    ┆         ┆ nos nish… ┆           │\n",
       "│ INC0000077 ┆ AV defini ┆ L1-Wintel ┆ User      ┆ … ┆ Other_oth ┆ 412     ┆ av defini ┆ l1-wintel │\n",
       "│ 64026      ┆ tions     ┆           ┆ Service   ┆   ┆ er_other  ┆         ┆ tions     ┆           │\n",
       "│            ┆ older     ┆           ┆ Request   ┆   ┆           ┆         ┆ older     ┆           │\n",
       "│            ┆ than 1    ┆           ┆           ┆   ┆           ┆         ┆ than 1    ┆           │\n",
       "│            ┆ day …     ┆           ┆           ┆   ┆           ┆         ┆ day …     ┆           │\n",
       "│ INC0000077 ┆ old Doc   ┆ L2 - CRM  ┆ User      ┆ … ┆ Issue_App ┆ 229     ┆ old doc   ┆ l2-crm    │\n",
       "│ 63904      ┆ not       ┆ Ops       ┆ Service   ┆   ┆ lication_ ┆         ┆ not       ┆ ops       │\n",
       "│            ┆ reflected ┆ Support   ┆ Restorati ┆   ┆ Services  ┆         ┆ reflected ┆ support   │\n",
       "│            ┆ in CRM    ┆           ┆ on        ┆   ┆           ┆         ┆ in crm    ┆           │\n",
       "│            ┆ Dea…      ┆           ┆           ┆   ┆           ┆         ┆ dea…      ┆           │\n",
       "└────────────┴───────────┴───────────┴───────────┴───┴───────────┴─────────┴───────────┴───────────┘"
      ]
     },
     "execution_count": 3,
     "metadata": {},
     "output_type": "execute_result"
    }
   ],
   "source": [
    "df.head()"
   ]
  },
  {
   "cell_type": "code",
   "execution_count": 4,
   "id": "d8ad246d-4ac6-4964-8197-855aa104647f",
   "metadata": {
    "tags": []
   },
   "outputs": [
    {
     "data": {
      "text/plain": [
       "{'revenue assurance solution': 0,\n",
       " 'cm support': 1,\n",
       " 'user id mgmt': 2,\n",
       " 'bi ': 3,\n",
       " 'css/ess-my vodafone': 4,\n",
       " 'mva-ops': 5,\n",
       " 'crm_vas_cad_ocg_msg': 6,\n",
       " 'l2-crm ops support': 7,\n",
       " 'l2-ipops_cms support': 8,\n",
       " 'iam-sarm': 9,\n",
       " 'application support': 10,\n",
       " 'askevo': 11,\n",
       " 'service desk-fcr': 12,\n",
       " 'cs-pune-metropolitan': 13,\n",
       " 'recc': 14,\n",
       " 'cit-cpos-cpossupport': 15,\n",
       " 'ra mediation-pune-metropolitan': 16,\n",
       " 'tbo-mis-pune-metropolitan': 17,\n",
       " 'kms-vsearch-vault': 18,\n",
       " 'eus': 19,\n",
       " 'l2 dhruv support': 20,\n",
       " 'enterprise crm operation support': 21,\n",
       " 'dispatcher': 22,\n",
       " 'siebelcrm_hyper care_l1 ops_techm': 23,\n",
       " 'icb-nld': 24,\n",
       " 'mobicule': 25,\n",
       " 'billing operations': 26,\n",
       " 'disha crm-crm-pune-metropolitan': 27,\n",
       " 'sam operation ops': 28,\n",
       " 'amdocs_': 29,\n",
       " 'l2-simex support': 30,\n",
       " 'sso-eai-reccpe': 31,\n",
       " 'oracle l1 support': 32,\n",
       " 'project everest bpa': 33,\n",
       " 'sso-apm-wintel': 34,\n",
       " 'l1-wintel': 35,\n",
       " 'bss-myworld': 36,\n",
       " 'ro': 37,\n",
       " 'war room': 38,\n",
       " 'central application-npg': 39,\n",
       " 'iam provisioning': 40,\n",
       " 'sso-wintel': 41,\n",
       " 'ebpp': 42,\n",
       " 'mediation': 43,\n",
       " 'l2-nsms support': 44,\n",
       " 'l1-crm postpaid support': 45,\n",
       " 'sso-remedy': 46,\n",
       " 'billing configuration': 47,\n",
       " 'cit-upss-upss-support': 48,\n",
       " 'security operations': 49,\n",
       " 'l2-cti support': 50}"
      ]
     },
     "execution_count": 4,
     "metadata": {},
     "output_type": "execute_result"
    }
   ],
   "source": [
    "label_map = {\n",
    "    k: idx for idx, k in enumerate(df[\"Assigned_Group_fixed\"].unique().to_list())\n",
    "}\n",
    "label_map"
   ]
  },
  {
   "cell_type": "code",
   "execution_count": 5,
   "id": "547be97d-9780-42d4-9581-5e3550c752a8",
   "metadata": {
    "tags": []
   },
   "outputs": [
    {
     "data": {
      "text/html": [
       "<div><style>\n",
       ".dataframe > thead > tr > th,\n",
       ".dataframe > tbody > tr > td {\n",
       "  text-align: right;\n",
       "  white-space: pre-wrap;\n",
       "}\n",
       "</style>\n",
       "<small>shape: (5, 10)</small><table border=\"1\" class=\"dataframe\"><thead><tr><th>Incident_No</th><th>Description</th><th>Assigned_Group</th><th>Incident_Type</th><th>Production_Category</th><th>Operational_Category</th><th>n_words</th><th>clean_text</th><th>Assigned_Group_fixed</th><th>label</th></tr><tr><td>str</td><td>str</td><td>str</td><td>str</td><td>str</td><td>str</td><td>i64</td><td>str</td><td>str</td><td>i64</td></tr></thead><tbody><tr><td>&quot;INC00000776689…</td><td>&quot;CRM Applicatio…</td><td>&quot;War Room&quot;</td><td>&quot;User Service R…</td><td>&quot;Business Appli…</td><td>&quot;Issue_Applicat…</td><td>182</td><td>&quot;crm applicatio…</td><td>&quot;war room&quot;</td><td>38</td></tr><tr><td>&quot;INC00000776477…</td><td>&quot;HR | VOICE TT …</td><td>&quot;CM Support&quot;</td><td>&quot;User Service R…</td><td>&quot;Business Appli…</td><td>&quot;Critical Appli…</td><td>124</td><td>&quot;hr | voice tt …</td><td>&quot;cm support&quot;</td><td>1</td></tr><tr><td>&quot;INC00000776473…</td><td>&quot;Pending Active…</td><td>&quot;L1- CRM Postpa…</td><td>&quot;User Service R…</td><td>&quot;Business Appli…</td><td>&quot;Critical Appli…</td><td>173</td><td>&quot;pending active…</td><td>&quot;l1-crm postpai…</td><td>45</td></tr><tr><td>&quot;INC00000776402…</td><td>&quot;AV definitions…</td><td>&quot;L1-Wintel&quot;</td><td>&quot;User Service R…</td><td>&quot;Software_Opera…</td><td>&quot;Other_other_ot…</td><td>412</td><td>&quot;av definitions…</td><td>&quot;l1-wintel&quot;</td><td>35</td></tr><tr><td>&quot;INC00000776390…</td><td>&quot;old Doc not re…</td><td>&quot;L2 - CRM Ops S…</td><td>&quot;User Service R…</td><td>&quot;Business Appli…</td><td>&quot;Issue_Applicat…</td><td>229</td><td>&quot;old doc not re…</td><td>&quot;l2-crm ops sup…</td><td>7</td></tr></tbody></table></div>"
      ],
      "text/plain": [
       "shape: (5, 10)\n",
       "┌────────────┬────────────┬────────────┬────────────┬───┬─────────┬────────────┬───────────┬───────┐\n",
       "│ Incident_N ┆ Descriptio ┆ Assigned_G ┆ Incident_T ┆ … ┆ n_words ┆ clean_text ┆ Assigned_ ┆ label │\n",
       "│ o          ┆ n          ┆ roup       ┆ ype        ┆   ┆ ---     ┆ ---        ┆ Group_fix ┆ ---   │\n",
       "│ ---        ┆ ---        ┆ ---        ┆ ---        ┆   ┆ i64     ┆ str        ┆ ed        ┆ i64   │\n",
       "│ str        ┆ str        ┆ str        ┆ str        ┆   ┆         ┆            ┆ ---       ┆       │\n",
       "│            ┆            ┆            ┆            ┆   ┆         ┆            ┆ str       ┆       │\n",
       "╞════════════╪════════════╪════════════╪════════════╪═══╪═════════╪════════════╪═══════════╪═══════╡\n",
       "│ INC0000077 ┆ CRM Applic ┆ War Room   ┆ User       ┆ … ┆ 182     ┆ crm applic ┆ war room  ┆ 38    │\n",
       "│ 66897      ┆ ation all  ┆            ┆ Service    ┆   ┆         ┆ ation all  ┆           ┆       │\n",
       "│            ┆ Tab        ┆            ┆ Restoratio ┆   ┆         ┆ tab        ┆           ┆       │\n",
       "│            ┆ working …  ┆            ┆ n          ┆   ┆         ┆ working …  ┆           ┆       │\n",
       "│ INC0000077 ┆ HR | VOICE ┆ CM Support ┆ User       ┆ … ┆ 124     ┆ hr | voice ┆ cm        ┆ 1     │\n",
       "│ 64771      ┆ TT LOB -   ┆            ┆ Service    ┆   ┆         ┆ tt lob -   ┆ support   ┆       │\n",
       "│            ┆ CAMPAIGN   ┆            ┆ Request    ┆   ┆         ┆ campaign   ┆           ┆       │\n",
       "│            ┆ EDI…       ┆            ┆            ┆   ┆         ┆ edi…       ┆           ┆       │\n",
       "│ INC0000077 ┆ Pending    ┆ L1- CRM    ┆ User       ┆ … ┆ 173     ┆ pending    ┆ l1-crm    ┆ 45    │\n",
       "│ 64731      ┆ Active     ┆ Postpaid   ┆ Service    ┆   ┆         ┆ active     ┆ postpaid  ┆       │\n",
       "│            ┆ Postpaid   ┆ Support    ┆ Restoratio ┆   ┆         ┆ postpaid   ┆ support   ┆       │\n",
       "│            ┆ nos Nish…  ┆            ┆ n          ┆   ┆         ┆ nos nish…  ┆           ┆       │\n",
       "│ INC0000077 ┆ AV definit ┆ L1-Wintel  ┆ User       ┆ … ┆ 412     ┆ av definit ┆ l1-wintel ┆ 35    │\n",
       "│ 64026      ┆ ions older ┆            ┆ Service    ┆   ┆         ┆ ions older ┆           ┆       │\n",
       "│            ┆ than 1 day ┆            ┆ Request    ┆   ┆         ┆ than 1 day ┆           ┆       │\n",
       "│            ┆ …          ┆            ┆            ┆   ┆         ┆ …          ┆           ┆       │\n",
       "│ INC0000077 ┆ old Doc    ┆ L2 - CRM   ┆ User       ┆ … ┆ 229     ┆ old doc    ┆ l2-crm    ┆ 7     │\n",
       "│ 63904      ┆ not        ┆ Ops        ┆ Service    ┆   ┆         ┆ not        ┆ ops       ┆       │\n",
       "│            ┆ reflected  ┆ Support    ┆ Restoratio ┆   ┆         ┆ reflected  ┆ support   ┆       │\n",
       "│            ┆ in CRM     ┆            ┆ n          ┆   ┆         ┆ in crm     ┆           ┆       │\n",
       "│            ┆ Dea…       ┆            ┆            ┆   ┆         ┆ dea…       ┆           ┆       │\n",
       "└────────────┴────────────┴────────────┴────────────┴───┴─────────┴────────────┴───────────┴───────┘"
      ]
     },
     "execution_count": 5,
     "metadata": {},
     "output_type": "execute_result"
    }
   ],
   "source": [
    "df = df.with_columns(\n",
    "    (pol.col(\"Assigned_Group_fixed\").map_dict(label_map)).alias(\"label\")\n",
    ")\n",
    "df.head()"
   ]
  },
  {
   "cell_type": "code",
   "execution_count": 6,
   "id": "6c54be2e-874e-44e9-8ecd-b0fd2294198d",
   "metadata": {
    "tags": []
   },
   "outputs": [
    {
     "name": "stdout",
     "output_type": "stream",
     "text": [
      "Shape of the training data: (9072, 10)\n",
      "Shape of the validation data: (1134, 10)\n",
      "Shape of the test data: (1134, 10)\n"
     ]
    }
   ],
   "source": [
    "df_train, df_test = train_test_split(\n",
    "    df, test_size=0.2, random_state=32, shuffle=True, stratify=df.select(\"label\")\n",
    ")\n",
    "\n",
    "df_val, df_test = train_test_split(df_test, test_size=0.5, shuffle=False)\n",
    "\n",
    "print(f\"Shape of the training data: {df_train.shape}\")\n",
    "print(f\"Shape of the validation data: {df_val.shape}\")\n",
    "print(f\"Shape of the test data: {df_test.shape}\")"
   ]
  },
  {
   "cell_type": "code",
   "execution_count": 7,
   "id": "8e2b9a7b-7461-4ceb-8752-dc9e42eb15c4",
   "metadata": {
    "tags": []
   },
   "outputs": [],
   "source": [
    "if not os.path.exists(\"../data/voda_idea_data_splits/\"):\n",
    "    os.mkdir(\"../data/voda_idea_data_splits/\")"
   ]
  },
  {
   "cell_type": "code",
   "execution_count": 8,
   "id": "c2fdab69-e0aa-42a5-a116-7fc1351d3d3f",
   "metadata": {
    "tags": []
   },
   "outputs": [],
   "source": [
    "df_train.write_csv(\"../data/voda_idea_data_splits/train_long_emails.csv\")"
   ]
  },
  {
   "cell_type": "code",
   "execution_count": 9,
   "id": "145757d7-c935-4d3e-a380-145f0a9493e2",
   "metadata": {
    "tags": []
   },
   "outputs": [],
   "source": [
    "df_val.write_csv(\"../data/voda_idea_data_splits/val_long_emails.csv\")"
   ]
  },
  {
   "cell_type": "code",
   "execution_count": 10,
   "id": "b91d1aeb-8dd3-4652-b5a9-8776eac7e393",
   "metadata": {
    "tags": []
   },
   "outputs": [],
   "source": [
    "df_test.write_csv(\"../data/voda_idea_data_splits/test_long_emails.csv\")"
   ]
  },
  {
   "cell_type": "code",
   "execution_count": 11,
   "id": "d68f1bce-98fb-471c-9f94-8f75a0d4934c",
   "metadata": {},
   "outputs": [],
   "source": [
    "with open(\"../data/voda_idea_data_splits/label_map_long_emails.json\", \"w\") as fp:\n",
    "    json.dump(label_map, fp, indent=4)"
   ]
  },
  {
   "cell_type": "code",
   "execution_count": null,
   "id": "b011d63e-964a-4f4f-8d36-696f51d4d481",
   "metadata": {},
   "outputs": [],
   "source": []
  }
 ],
 "metadata": {
  "kernelspec": {
   "display_name": "Python 3 (ipykernel)",
   "language": "python",
   "name": "python3"
  },
  "language_info": {
   "codemirror_mode": {
    "name": "ipython",
    "version": 3
   },
   "file_extension": ".py",
   "mimetype": "text/x-python",
   "name": "python",
   "nbconvert_exporter": "python",
   "pygments_lexer": "ipython3",
   "version": "3.11.7"
  }
 },
 "nbformat": 4,
 "nbformat_minor": 5
}
