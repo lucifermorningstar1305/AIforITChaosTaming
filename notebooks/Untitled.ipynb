{
 "cells": [
  {
   "cell_type": "code",
   "execution_count": 19,
   "id": "3828a390-8584-45de-8077-08816085cead",
   "metadata": {},
   "outputs": [],
   "source": [
    "import matplotlib.pyplot as plt\n",
    "import numpy as np\n",
    "import polars as pol\n",
    "from sklearn.ensemble import RandomForestClassifier, VotingClassifier\n",
    "from sklearn.feature_extraction.text import CountVectorizer, TfidfTransformer\n",
    "from sklearn.model_selection import train_test_split\n",
    "from sklearn.neural_network import MLPClassifier\n",
    "from sklearn.pipeline import Pipeline\n",
    "from sklearn.svm import SVC"
   ]
  },
  {
   "cell_type": "code",
   "execution_count": 10,
   "id": "d8df15b0-6f98-47aa-bbd1-e59f41a67436",
   "metadata": {
    "tags": []
   },
   "outputs": [],
   "source": [
    "df_short = pol.read_csv(\"../data/vodafone_data_short_head_long_emails.csv\")\n",
    "df_long = pol.read_csv(\"../data/vodafone_data_long_tail_long_emails.csv\")"
   ]
  },
  {
   "cell_type": "code",
   "execution_count": 11,
   "id": "f452a654-77eb-4d92-ac53-5725b6669eb1",
   "metadata": {
    "tags": []
   },
   "outputs": [
    {
     "name": "stdout",
     "output_type": "stream",
     "text": [
      "Shape of the short head dataset: (11340, 9)\n",
      "Shape of the long tail dataset: (1430, 9)\n"
     ]
    }
   ],
   "source": [
    "print(f\"Shape of the short head dataset: {df_short.shape}\")\n",
    "print(f\"Shape of the long tail dataset: {df_long.shape}\")"
   ]
  },
  {
   "cell_type": "code",
   "execution_count": 12,
   "id": "6033abda-207f-435a-8a12-4f818d04be22",
   "metadata": {
    "tags": []
   },
   "outputs": [
    {
     "data": {
      "text/html": [
       "<div><style>\n",
       ".dataframe > thead > tr > th,\n",
       ".dataframe > tbody > tr > td {\n",
       "  text-align: right;\n",
       "  white-space: pre-wrap;\n",
       "}\n",
       "</style>\n",
       "<small>shape: (5, 9)</small><table border=\"1\" class=\"dataframe\"><thead><tr><th>Incident_No</th><th>Description</th><th>Assigned_Group</th><th>Incident_Type</th><th>Production_Category</th><th>Operational_Category</th><th>n_words</th><th>clean_text</th><th>Assigned_Group_fixed</th></tr><tr><td>str</td><td>str</td><td>str</td><td>str</td><td>str</td><td>str</td><td>i64</td><td>str</td><td>str</td></tr></thead><tbody><tr><td>&quot;INC00000776689…</td><td>&quot;CRM Applicatio…</td><td>&quot;War Room&quot;</td><td>&quot;User Service R…</td><td>&quot;Business Appli…</td><td>&quot;Issue_Applicat…</td><td>182</td><td>&quot;crm applicatio…</td><td>&quot;war room&quot;</td></tr><tr><td>&quot;INC00000776477…</td><td>&quot;HR | VOICE TT …</td><td>&quot;CM Support&quot;</td><td>&quot;User Service R…</td><td>&quot;Business Appli…</td><td>&quot;Critical Appli…</td><td>124</td><td>&quot;hr | voice tt …</td><td>&quot;cm support&quot;</td></tr><tr><td>&quot;INC00000776473…</td><td>&quot;Pending Active…</td><td>&quot;L1- CRM Postpa…</td><td>&quot;User Service R…</td><td>&quot;Business Appli…</td><td>&quot;Critical Appli…</td><td>173</td><td>&quot;pending active…</td><td>&quot;l1-crm postpai…</td></tr><tr><td>&quot;INC00000776402…</td><td>&quot;AV definitions…</td><td>&quot;L1-Wintel&quot;</td><td>&quot;User Service R…</td><td>&quot;Software_Opera…</td><td>&quot;Other_other_ot…</td><td>412</td><td>&quot;av definitions…</td><td>&quot;l1-wintel&quot;</td></tr><tr><td>&quot;INC00000776390…</td><td>&quot;old Doc not re…</td><td>&quot;L2 - CRM Ops S…</td><td>&quot;User Service R…</td><td>&quot;Business Appli…</td><td>&quot;Issue_Applicat…</td><td>229</td><td>&quot;old doc not re…</td><td>&quot;l2-crm ops sup…</td></tr></tbody></table></div>"
      ],
      "text/plain": [
       "shape: (5, 9)\n",
       "┌────────────┬───────────┬───────────┬───────────┬───┬───────────┬─────────┬───────────┬───────────┐\n",
       "│ Incident_N ┆ Descripti ┆ Assigned_ ┆ Incident_ ┆ … ┆ Operation ┆ n_words ┆ clean_tex ┆ Assigned_ │\n",
       "│ o          ┆ on        ┆ Group     ┆ Type      ┆   ┆ al_Catego ┆ ---     ┆ t         ┆ Group_fix │\n",
       "│ ---        ┆ ---       ┆ ---       ┆ ---       ┆   ┆ ry        ┆ i64     ┆ ---       ┆ ed        │\n",
       "│ str        ┆ str       ┆ str       ┆ str       ┆   ┆ ---       ┆         ┆ str       ┆ ---       │\n",
       "│            ┆           ┆           ┆           ┆   ┆ str       ┆         ┆           ┆ str       │\n",
       "╞════════════╪═══════════╪═══════════╪═══════════╪═══╪═══════════╪═════════╪═══════════╪═══════════╡\n",
       "│ INC0000077 ┆ CRM Appli ┆ War Room  ┆ User      ┆ … ┆ Issue_App ┆ 182     ┆ crm appli ┆ war room  │\n",
       "│ 66897      ┆ cation    ┆           ┆ Service   ┆   ┆ lication_ ┆         ┆ cation    ┆           │\n",
       "│            ┆ all Tab   ┆           ┆ Restorati ┆   ┆ Functiona ┆         ┆ all tab   ┆           │\n",
       "│            ┆ working … ┆           ┆ on        ┆   ┆ lity      ┆         ┆ working … ┆           │\n",
       "│ INC0000077 ┆ HR |      ┆ CM        ┆ User      ┆ … ┆ Critical  ┆ 124     ┆ hr |      ┆ cm        │\n",
       "│ 64771      ┆ VOICE TT  ┆ Support   ┆ Service   ┆   ┆ Applicati ┆         ┆ voice tt  ┆ support   │\n",
       "│            ┆ LOB -     ┆           ┆ Request   ┆   ┆ ons_CM    ┆         ┆ lob -     ┆           │\n",
       "│            ┆ CAMPAIGN  ┆           ┆           ┆   ┆ Applica…  ┆         ┆ campaign  ┆           │\n",
       "│            ┆ EDI…      ┆           ┆           ┆   ┆           ┆         ┆ edi…      ┆           │\n",
       "│ INC0000077 ┆ Pending   ┆ L1- CRM   ┆ User      ┆ … ┆ Critical  ┆ 173     ┆ pending   ┆ l1-crm    │\n",
       "│ 64731      ┆ Active    ┆ Postpaid  ┆ Service   ┆   ┆ Applicati ┆         ┆ active    ┆ postpaid  │\n",
       "│            ┆ Postpaid  ┆ Support   ┆ Restorati ┆   ┆ ons_CRM-P ┆         ┆ postpaid  ┆ support   │\n",
       "│            ┆ nos Nish… ┆           ┆ on        ┆   ┆ ostpa…    ┆         ┆ nos nish… ┆           │\n",
       "│ INC0000077 ┆ AV defini ┆ L1-Wintel ┆ User      ┆ … ┆ Other_oth ┆ 412     ┆ av defini ┆ l1-wintel │\n",
       "│ 64026      ┆ tions     ┆           ┆ Service   ┆   ┆ er_other  ┆         ┆ tions     ┆           │\n",
       "│            ┆ older     ┆           ┆ Request   ┆   ┆           ┆         ┆ older     ┆           │\n",
       "│            ┆ than 1    ┆           ┆           ┆   ┆           ┆         ┆ than 1    ┆           │\n",
       "│            ┆ day …     ┆           ┆           ┆   ┆           ┆         ┆ day …     ┆           │\n",
       "│ INC0000077 ┆ old Doc   ┆ L2 - CRM  ┆ User      ┆ … ┆ Issue_App ┆ 229     ┆ old doc   ┆ l2-crm    │\n",
       "│ 63904      ┆ not       ┆ Ops       ┆ Service   ┆   ┆ lication_ ┆         ┆ not       ┆ ops       │\n",
       "│            ┆ reflected ┆ Support   ┆ Restorati ┆   ┆ Services  ┆         ┆ reflected ┆ support   │\n",
       "│            ┆ in CRM    ┆           ┆ on        ┆   ┆           ┆         ┆ in crm    ┆           │\n",
       "│            ┆ Dea…      ┆           ┆           ┆   ┆           ┆         ┆ dea…      ┆           │\n",
       "└────────────┴───────────┴───────────┴───────────┴───┴───────────┴─────────┴───────────┴───────────┘"
      ]
     },
     "execution_count": 12,
     "metadata": {},
     "output_type": "execute_result"
    }
   ],
   "source": [
    "df_short.head()"
   ]
  },
  {
   "cell_type": "code",
   "execution_count": 13,
   "id": "185cda8f-59bd-49ee-9172-d5861a7ccbe6",
   "metadata": {
    "tags": []
   },
   "outputs": [],
   "source": [
    "df_short = df_short.with_columns(\n",
    "    (pol.col(\"Assigned_Group_fixed\").map_elements(lambda x: x).alias(\"label\"))\n",
    ")\n",
    "df_long = df_long.with_columns(\n",
    "    (pol.col(\"Assigned_Group_fixed\").map_elements(lambda x: \"unk\")).alias(\"label\")\n",
    ")"
   ]
  },
  {
   "cell_type": "code",
   "execution_count": 14,
   "id": "e9619026-b04d-4592-8793-0f778d7af386",
   "metadata": {
    "tags": []
   },
   "outputs": [
    {
     "data": {
      "text/html": [
       "<div><style>\n",
       ".dataframe > thead > tr > th,\n",
       ".dataframe > tbody > tr > td {\n",
       "  text-align: right;\n",
       "  white-space: pre-wrap;\n",
       "}\n",
       "</style>\n",
       "<small>shape: (5, 10)</small><table border=\"1\" class=\"dataframe\"><thead><tr><th>Incident_No</th><th>Description</th><th>Assigned_Group</th><th>Incident_Type</th><th>Production_Category</th><th>Operational_Category</th><th>n_words</th><th>clean_text</th><th>Assigned_Group_fixed</th><th>label</th></tr><tr><td>str</td><td>str</td><td>str</td><td>str</td><td>str</td><td>str</td><td>i64</td><td>str</td><td>str</td><td>str</td></tr></thead><tbody><tr><td>&quot;INC00000776689…</td><td>&quot;CRM Applicatio…</td><td>&quot;War Room&quot;</td><td>&quot;User Service R…</td><td>&quot;Business Appli…</td><td>&quot;Issue_Applicat…</td><td>182</td><td>&quot;crm applicatio…</td><td>&quot;war room&quot;</td><td>&quot;war room&quot;</td></tr><tr><td>&quot;INC00000776477…</td><td>&quot;HR | VOICE TT …</td><td>&quot;CM Support&quot;</td><td>&quot;User Service R…</td><td>&quot;Business Appli…</td><td>&quot;Critical Appli…</td><td>124</td><td>&quot;hr | voice tt …</td><td>&quot;cm support&quot;</td><td>&quot;cm support&quot;</td></tr><tr><td>&quot;INC00000776473…</td><td>&quot;Pending Active…</td><td>&quot;L1- CRM Postpa…</td><td>&quot;User Service R…</td><td>&quot;Business Appli…</td><td>&quot;Critical Appli…</td><td>173</td><td>&quot;pending active…</td><td>&quot;l1-crm postpai…</td><td>&quot;l1-crm postpai…</td></tr><tr><td>&quot;INC00000776402…</td><td>&quot;AV definitions…</td><td>&quot;L1-Wintel&quot;</td><td>&quot;User Service R…</td><td>&quot;Software_Opera…</td><td>&quot;Other_other_ot…</td><td>412</td><td>&quot;av definitions…</td><td>&quot;l1-wintel&quot;</td><td>&quot;l1-wintel&quot;</td></tr><tr><td>&quot;INC00000776390…</td><td>&quot;old Doc not re…</td><td>&quot;L2 - CRM Ops S…</td><td>&quot;User Service R…</td><td>&quot;Business Appli…</td><td>&quot;Issue_Applicat…</td><td>229</td><td>&quot;old doc not re…</td><td>&quot;l2-crm ops sup…</td><td>&quot;l2-crm ops sup…</td></tr></tbody></table></div>"
      ],
      "text/plain": [
       "shape: (5, 10)\n",
       "┌────────────┬───────────┬───────────┬───────────┬───┬─────────┬───────────┬───────────┬───────────┐\n",
       "│ Incident_N ┆ Descripti ┆ Assigned_ ┆ Incident_ ┆ … ┆ n_words ┆ clean_tex ┆ Assigned_ ┆ label     │\n",
       "│ o          ┆ on        ┆ Group     ┆ Type      ┆   ┆ ---     ┆ t         ┆ Group_fix ┆ ---       │\n",
       "│ ---        ┆ ---       ┆ ---       ┆ ---       ┆   ┆ i64     ┆ ---       ┆ ed        ┆ str       │\n",
       "│ str        ┆ str       ┆ str       ┆ str       ┆   ┆         ┆ str       ┆ ---       ┆           │\n",
       "│            ┆           ┆           ┆           ┆   ┆         ┆           ┆ str       ┆           │\n",
       "╞════════════╪═══════════╪═══════════╪═══════════╪═══╪═════════╪═══════════╪═══════════╪═══════════╡\n",
       "│ INC0000077 ┆ CRM Appli ┆ War Room  ┆ User      ┆ … ┆ 182     ┆ crm appli ┆ war room  ┆ war room  │\n",
       "│ 66897      ┆ cation    ┆           ┆ Service   ┆   ┆         ┆ cation    ┆           ┆           │\n",
       "│            ┆ all Tab   ┆           ┆ Restorati ┆   ┆         ┆ all tab   ┆           ┆           │\n",
       "│            ┆ working … ┆           ┆ on        ┆   ┆         ┆ working … ┆           ┆           │\n",
       "│ INC0000077 ┆ HR |      ┆ CM        ┆ User      ┆ … ┆ 124     ┆ hr |      ┆ cm        ┆ cm        │\n",
       "│ 64771      ┆ VOICE TT  ┆ Support   ┆ Service   ┆   ┆         ┆ voice tt  ┆ support   ┆ support   │\n",
       "│            ┆ LOB -     ┆           ┆ Request   ┆   ┆         ┆ lob -     ┆           ┆           │\n",
       "│            ┆ CAMPAIGN  ┆           ┆           ┆   ┆         ┆ campaign  ┆           ┆           │\n",
       "│            ┆ EDI…      ┆           ┆           ┆   ┆         ┆ edi…      ┆           ┆           │\n",
       "│ INC0000077 ┆ Pending   ┆ L1- CRM   ┆ User      ┆ … ┆ 173     ┆ pending   ┆ l1-crm    ┆ l1-crm    │\n",
       "│ 64731      ┆ Active    ┆ Postpaid  ┆ Service   ┆   ┆         ┆ active    ┆ postpaid  ┆ postpaid  │\n",
       "│            ┆ Postpaid  ┆ Support   ┆ Restorati ┆   ┆         ┆ postpaid  ┆ support   ┆ support   │\n",
       "│            ┆ nos Nish… ┆           ┆ on        ┆   ┆         ┆ nos nish… ┆           ┆           │\n",
       "│ INC0000077 ┆ AV defini ┆ L1-Wintel ┆ User      ┆ … ┆ 412     ┆ av defini ┆ l1-wintel ┆ l1-wintel │\n",
       "│ 64026      ┆ tions     ┆           ┆ Service   ┆   ┆         ┆ tions     ┆           ┆           │\n",
       "│            ┆ older     ┆           ┆ Request   ┆   ┆         ┆ older     ┆           ┆           │\n",
       "│            ┆ than 1    ┆           ┆           ┆   ┆         ┆ than 1    ┆           ┆           │\n",
       "│            ┆ day …     ┆           ┆           ┆   ┆         ┆ day …     ┆           ┆           │\n",
       "│ INC0000077 ┆ old Doc   ┆ L2 - CRM  ┆ User      ┆ … ┆ 229     ┆ old doc   ┆ l2-crm    ┆ l2-crm    │\n",
       "│ 63904      ┆ not       ┆ Ops       ┆ Service   ┆   ┆         ┆ not       ┆ ops       ┆ ops       │\n",
       "│            ┆ reflected ┆ Support   ┆ Restorati ┆   ┆         ┆ reflected ┆ support   ┆ support   │\n",
       "│            ┆ in CRM    ┆           ┆ on        ┆   ┆         ┆ in crm    ┆           ┆           │\n",
       "│            ┆ Dea…      ┆           ┆           ┆   ┆         ┆ dea…      ┆           ┆           │\n",
       "└────────────┴───────────┴───────────┴───────────┴───┴─────────┴───────────┴───────────┴───────────┘"
      ]
     },
     "execution_count": 14,
     "metadata": {},
     "output_type": "execute_result"
    }
   ],
   "source": [
    "df_short.head()"
   ]
  },
  {
   "cell_type": "code",
   "execution_count": 15,
   "id": "3aafb201-897f-428b-83b5-1297bbd87fa3",
   "metadata": {
    "tags": []
   },
   "outputs": [
    {
     "data": {
      "text/html": [
       "<div><style>\n",
       ".dataframe > thead > tr > th,\n",
       ".dataframe > tbody > tr > td {\n",
       "  text-align: right;\n",
       "  white-space: pre-wrap;\n",
       "}\n",
       "</style>\n",
       "<small>shape: (5, 10)</small><table border=\"1\" class=\"dataframe\"><thead><tr><th>Incident_No</th><th>Description</th><th>Assigned_Group</th><th>Incident_Type</th><th>Production_Category</th><th>Operational_Category</th><th>n_words</th><th>clean_text</th><th>Assigned_Group_fixed</th><th>label</th></tr><tr><td>str</td><td>str</td><td>str</td><td>str</td><td>str</td><td>str</td><td>i64</td><td>str</td><td>str</td><td>str</td></tr></thead><tbody><tr><td>&quot;INC00000776594…</td><td>&quot;Regarding recu…</td><td>&quot;Middleware&quot;</td><td>&quot;User Service R…</td><td>&quot;Software_SubSy…</td><td>&quot;Request_Applic…</td><td>120</td><td>&quot;regarding recu…</td><td>&quot;middleware&quot;</td><td>&quot;unk&quot;</td></tr><tr><td>&quot;INC00000776263…</td><td>&quot;KER- ODI - Ass…</td><td>&quot;SSO - EAI&quot;</td><td>&quot;User Service R…</td><td>&quot;Application_Op…</td><td>&quot;Issue_Applicat…</td><td>127</td><td>&quot;ker- odi - ass…</td><td>&quot;sso-eai&quot;</td><td>&quot;unk&quot;</td></tr><tr><td>&quot;INC00000776007…</td><td>&quot;UPC not receiv…</td><td>&quot;L2-MNP Operati…</td><td>&quot;User Service R…</td><td>&quot;Business Appli…</td><td>&quot;Issue_Applicat…</td><td>277</td><td>&quot;upc not receiv…</td><td>&quot;l2-mnp operati…</td><td>&quot;unk&quot;</td></tr><tr><td>&quot;INC00000775977…</td><td>&quot;Voucher Status…</td><td>&quot;mpesa core&quot;</td><td>&quot;User Service R…</td><td>&quot;Business Appli…</td><td>&quot;Request_Applic…</td><td>111</td><td>&quot;voucher status…</td><td>&quot;mpesa core&quot;</td><td>&quot;unk&quot;</td></tr><tr><td>&quot;INC00000775945…</td><td>&quot;Required Chann…</td><td>&quot;L2 - VTOPUP&quot;</td><td>&quot;User Service R…</td><td>&quot;Business Appli…</td><td>&quot;Critical Appli…</td><td>106</td><td>&quot;required chann…</td><td>&quot;l2-vtopup&quot;</td><td>&quot;unk&quot;</td></tr></tbody></table></div>"
      ],
      "text/plain": [
       "shape: (5, 10)\n",
       "┌────────────┬────────────┬────────────┬────────────┬───┬─────────┬────────────┬───────────┬───────┐\n",
       "│ Incident_N ┆ Descriptio ┆ Assigned_G ┆ Incident_T ┆ … ┆ n_words ┆ clean_text ┆ Assigned_ ┆ label │\n",
       "│ o          ┆ n          ┆ roup       ┆ ype        ┆   ┆ ---     ┆ ---        ┆ Group_fix ┆ ---   │\n",
       "│ ---        ┆ ---        ┆ ---        ┆ ---        ┆   ┆ i64     ┆ str        ┆ ed        ┆ str   │\n",
       "│ str        ┆ str        ┆ str        ┆ str        ┆   ┆         ┆            ┆ ---       ┆       │\n",
       "│            ┆            ┆            ┆            ┆   ┆         ┆            ┆ str       ┆       │\n",
       "╞════════════╪════════════╪════════════╪════════════╪═══╪═════════╪════════════╪═══════════╪═══════╡\n",
       "│ INC0000077 ┆ Regarding  ┆ Middleware ┆ User       ┆ … ┆ 120     ┆ regarding  ┆ middlewar ┆ unk   │\n",
       "│ 65945      ┆ recursive  ┆            ┆ Service    ┆   ┆         ┆ recursive  ┆ e         ┆       │\n",
       "│            ┆ write      ┆            ┆ Request    ┆   ┆         ┆ write      ┆           ┆       │\n",
       "│            ┆ permis…    ┆            ┆            ┆   ┆         ┆ permis…    ┆           ┆       │\n",
       "│ INC0000077 ┆ KER- ODI - ┆ SSO - EAI  ┆ User       ┆ … ┆ 127     ┆ ker- odi - ┆ sso-eai   ┆ unk   │\n",
       "│ 62635      ┆ AssignProm ┆            ┆ Service    ┆   ┆         ┆ assignprom ┆           ┆       │\n",
       "│            ┆ o - Async  ┆            ┆ Restoratio ┆   ┆         ┆ o - async  ┆           ┆       │\n",
       "│            ┆ r…         ┆            ┆ n          ┆   ┆         ┆ r…         ┆           ┆       │\n",
       "│ INC0000077 ┆ UPC not    ┆ L2-MNP     ┆ User       ┆ … ┆ 277     ┆ upc not    ┆ l2-mnp    ┆ unk   │\n",
       "│ 60072      ┆ received - ┆ Operations ┆ Service    ┆   ┆         ┆ received - ┆ operation ┆       │\n",
       "│            ┆ 9832008606 ┆            ┆ Restoratio ┆   ┆         ┆ 9832008606 ┆ s         ┆       │\n",
       "│            ┆ -  …       ┆            ┆ n          ┆   ┆         ┆ - i…       ┆           ┆       │\n",
       "│ INC0000077 ┆ Voucher    ┆ mpesa core ┆ User       ┆ … ┆ 111     ┆ voucher    ┆ mpesa     ┆ unk   │\n",
       "│ 59779      ┆ Status     ┆            ┆ Service    ┆   ┆         ┆ status     ┆ core      ┆       │\n",
       "│            ┆ Require    ┆            ┆ Request    ┆   ┆         ┆ require    ┆           ┆       │\n",
       "│            ┆ Dear  I…   ┆            ┆            ┆   ┆         ┆ dear� its… ┆           ┆       │\n",
       "│ INC0000077 ┆ Required   ┆ L2 -       ┆ User       ┆ … ┆ 106     ┆ required   ┆ l2-vtopup ┆ unk   │\n",
       "│ 59455      ┆ Channel    ┆ VTOPUP     ┆ Service    ┆   ┆         ┆ channel    ┆           ┆       │\n",
       "│            ┆ User       ┆            ┆ Request    ┆   ┆         ┆ user       ┆           ┆       │\n",
       "│            ┆ Balanceas  ┆            ┆            ┆   ┆         ┆ balanceas  ┆           ┆       │\n",
       "│            ┆ …          ┆            ┆            ┆   ┆         ┆ …          ┆           ┆       │\n",
       "└────────────┴────────────┴────────────┴────────────┴───┴─────────┴────────────┴───────────┴───────┘"
      ]
     },
     "execution_count": 15,
     "metadata": {},
     "output_type": "execute_result"
    }
   ],
   "source": [
    "df_long.head()"
   ]
  },
  {
   "cell_type": "code",
   "execution_count": 16,
   "id": "c21473bb-4a4e-4274-ad2b-4529060b01ac",
   "metadata": {},
   "outputs": [
    {
     "name": "stdout",
     "output_type": "stream",
     "text": [
      "Shape of the concatenated dataframe: (12770, 10)\n"
     ]
    }
   ],
   "source": [
    "df = pol.concat([df_short, df_long])\n",
    "print(f\"Shape of the concatenated dataframe: {df.shape}\")"
   ]
  },
  {
   "cell_type": "code",
   "execution_count": 17,
   "id": "d7a717d8-2057-4afd-94e9-de9b786101a1",
   "metadata": {
    "tags": []
   },
   "outputs": [],
   "source": [
    "df = df.select(pol.col(\"clean_text\"), pol.col(\"label\"))\n",
    "df_train, df_test = train_test_split(\n",
    "    df, test_size=0.2, random_state=32, shuffle=True, stratify=df.select(\"label\")\n",
    ")"
   ]
  },
  {
   "cell_type": "code",
   "execution_count": 18,
   "id": "5086d4b4-9904-4590-a50f-a4be951dadd4",
   "metadata": {
    "tags": []
   },
   "outputs": [
    {
     "name": "stdout",
     "output_type": "stream",
     "text": [
      "Shape of the training data: (10216, 2)\n",
      "Shape of the test data: (2554, 2)\n"
     ]
    }
   ],
   "source": [
    "print(f\"Shape of the training data: {df_train.shape}\")\n",
    "print(f\"Shape of the test data: {df_test.shape}\")"
   ]
  },
  {
   "cell_type": "code",
   "execution_count": 33,
   "id": "32375545-f6a5-48fb-af2a-ff257b84fa61",
   "metadata": {
    "tags": []
   },
   "outputs": [],
   "source": [
    "ensemble = VotingClassifier(\n",
    "    estimators=[\n",
    "        (\"svm\", SVC(kernel=\"rbf\", random_state=42)),\n",
    "        (\"rf\", RandomForestClassifier(n_estimators=500, random_state=42, n_jobs=-1)),\n",
    "    ],\n",
    "    voting=\"soft\",\n",
    ")"
   ]
  },
  {
   "cell_type": "code",
   "execution_count": 34,
   "id": "e8846f3c-e25a-4adb-a8d3-6f04a03f2cc7",
   "metadata": {
    "tags": []
   },
   "outputs": [],
   "source": [
    "clf = Pipeline(\n",
    "    [\n",
    "        (\"vect\", CountVectorizer(ngram_range=(1, 3), stop_words=\"english\")),\n",
    "        (\"tfidf\", TfidfTransformer()),\n",
    "        (\"clf\", ensemble),\n",
    "    ]\n",
    ")"
   ]
  },
  {
   "cell_type": "code",
   "execution_count": 35,
   "id": "39a0238b-534b-4a9d-bfdf-1eb4fff707ae",
   "metadata": {
    "tags": []
   },
   "outputs": [
    {
     "data": {
      "text/html": [
       "<style>#sk-container-id-1 {color: black;background-color: white;}#sk-container-id-1 pre{padding: 0;}#sk-container-id-1 div.sk-toggleable {background-color: white;}#sk-container-id-1 label.sk-toggleable__label {cursor: pointer;display: block;width: 100%;margin-bottom: 0;padding: 0.3em;box-sizing: border-box;text-align: center;}#sk-container-id-1 label.sk-toggleable__label-arrow:before {content: \"▸\";float: left;margin-right: 0.25em;color: #696969;}#sk-container-id-1 label.sk-toggleable__label-arrow:hover:before {color: black;}#sk-container-id-1 div.sk-estimator:hover label.sk-toggleable__label-arrow:before {color: black;}#sk-container-id-1 div.sk-toggleable__content {max-height: 0;max-width: 0;overflow: hidden;text-align: left;background-color: #f0f8ff;}#sk-container-id-1 div.sk-toggleable__content pre {margin: 0.2em;color: black;border-radius: 0.25em;background-color: #f0f8ff;}#sk-container-id-1 input.sk-toggleable__control:checked~div.sk-toggleable__content {max-height: 200px;max-width: 100%;overflow: auto;}#sk-container-id-1 input.sk-toggleable__control:checked~label.sk-toggleable__label-arrow:before {content: \"▾\";}#sk-container-id-1 div.sk-estimator input.sk-toggleable__control:checked~label.sk-toggleable__label {background-color: #d4ebff;}#sk-container-id-1 div.sk-label input.sk-toggleable__control:checked~label.sk-toggleable__label {background-color: #d4ebff;}#sk-container-id-1 input.sk-hidden--visually {border: 0;clip: rect(1px 1px 1px 1px);clip: rect(1px, 1px, 1px, 1px);height: 1px;margin: -1px;overflow: hidden;padding: 0;position: absolute;width: 1px;}#sk-container-id-1 div.sk-estimator {font-family: monospace;background-color: #f0f8ff;border: 1px dotted black;border-radius: 0.25em;box-sizing: border-box;margin-bottom: 0.5em;}#sk-container-id-1 div.sk-estimator:hover {background-color: #d4ebff;}#sk-container-id-1 div.sk-parallel-item::after {content: \"\";width: 100%;border-bottom: 1px solid gray;flex-grow: 1;}#sk-container-id-1 div.sk-label:hover label.sk-toggleable__label {background-color: #d4ebff;}#sk-container-id-1 div.sk-serial::before {content: \"\";position: absolute;border-left: 1px solid gray;box-sizing: border-box;top: 0;bottom: 0;left: 50%;z-index: 0;}#sk-container-id-1 div.sk-serial {display: flex;flex-direction: column;align-items: center;background-color: white;padding-right: 0.2em;padding-left: 0.2em;position: relative;}#sk-container-id-1 div.sk-item {position: relative;z-index: 1;}#sk-container-id-1 div.sk-parallel {display: flex;align-items: stretch;justify-content: center;background-color: white;position: relative;}#sk-container-id-1 div.sk-item::before, #sk-container-id-1 div.sk-parallel-item::before {content: \"\";position: absolute;border-left: 1px solid gray;box-sizing: border-box;top: 0;bottom: 0;left: 50%;z-index: -1;}#sk-container-id-1 div.sk-parallel-item {display: flex;flex-direction: column;z-index: 1;position: relative;background-color: white;}#sk-container-id-1 div.sk-parallel-item:first-child::after {align-self: flex-end;width: 50%;}#sk-container-id-1 div.sk-parallel-item:last-child::after {align-self: flex-start;width: 50%;}#sk-container-id-1 div.sk-parallel-item:only-child::after {width: 0;}#sk-container-id-1 div.sk-dashed-wrapped {border: 1px dashed gray;margin: 0 0.4em 0.5em 0.4em;box-sizing: border-box;padding-bottom: 0.4em;background-color: white;}#sk-container-id-1 div.sk-label label {font-family: monospace;font-weight: bold;display: inline-block;line-height: 1.2em;}#sk-container-id-1 div.sk-label-container {text-align: center;}#sk-container-id-1 div.sk-container {/* jupyter's `normalize.less` sets `[hidden] { display: none; }` but bootstrap.min.css set `[hidden] { display: none !important; }` so we also need the `!important` here to be able to override the default hidden behavior on the sphinx rendered scikit-learn.org. See: https://github.com/scikit-learn/scikit-learn/issues/21755 */display: inline-block !important;position: relative;}#sk-container-id-1 div.sk-text-repr-fallback {display: none;}</style><div id=\"sk-container-id-1\" class=\"sk-top-container\"><div class=\"sk-text-repr-fallback\"><pre>Pipeline(steps=[(&#x27;vect&#x27;,\n",
       "                 CountVectorizer(ngram_range=(1, 3), stop_words=&#x27;english&#x27;)),\n",
       "                (&#x27;tfidf&#x27;, TfidfTransformer()),\n",
       "                (&#x27;clf&#x27;,\n",
       "                 VotingClassifier(estimators=[(&#x27;svm&#x27;, SVC(random_state=42)),\n",
       "                                              (&#x27;rf&#x27;,\n",
       "                                               RandomForestClassifier(n_estimators=500,\n",
       "                                                                      n_jobs=-1,\n",
       "                                                                      random_state=42))],\n",
       "                                  voting=&#x27;soft&#x27;))])</pre><b>In a Jupyter environment, please rerun this cell to show the HTML representation or trust the notebook. <br />On GitHub, the HTML representation is unable to render, please try loading this page with nbviewer.org.</b></div><div class=\"sk-container\" hidden><div class=\"sk-item sk-dashed-wrapped\"><div class=\"sk-label-container\"><div class=\"sk-label sk-toggleable\"><input class=\"sk-toggleable__control sk-hidden--visually\" id=\"sk-estimator-id-1\" type=\"checkbox\" ><label for=\"sk-estimator-id-1\" class=\"sk-toggleable__label sk-toggleable__label-arrow\">Pipeline</label><div class=\"sk-toggleable__content\"><pre>Pipeline(steps=[(&#x27;vect&#x27;,\n",
       "                 CountVectorizer(ngram_range=(1, 3), stop_words=&#x27;english&#x27;)),\n",
       "                (&#x27;tfidf&#x27;, TfidfTransformer()),\n",
       "                (&#x27;clf&#x27;,\n",
       "                 VotingClassifier(estimators=[(&#x27;svm&#x27;, SVC(random_state=42)),\n",
       "                                              (&#x27;rf&#x27;,\n",
       "                                               RandomForestClassifier(n_estimators=500,\n",
       "                                                                      n_jobs=-1,\n",
       "                                                                      random_state=42))],\n",
       "                                  voting=&#x27;soft&#x27;))])</pre></div></div></div><div class=\"sk-serial\"><div class=\"sk-item\"><div class=\"sk-estimator sk-toggleable\"><input class=\"sk-toggleable__control sk-hidden--visually\" id=\"sk-estimator-id-2\" type=\"checkbox\" ><label for=\"sk-estimator-id-2\" class=\"sk-toggleable__label sk-toggleable__label-arrow\">CountVectorizer</label><div class=\"sk-toggleable__content\"><pre>CountVectorizer(ngram_range=(1, 3), stop_words=&#x27;english&#x27;)</pre></div></div></div><div class=\"sk-item\"><div class=\"sk-estimator sk-toggleable\"><input class=\"sk-toggleable__control sk-hidden--visually\" id=\"sk-estimator-id-3\" type=\"checkbox\" ><label for=\"sk-estimator-id-3\" class=\"sk-toggleable__label sk-toggleable__label-arrow\">TfidfTransformer</label><div class=\"sk-toggleable__content\"><pre>TfidfTransformer()</pre></div></div></div><div class=\"sk-item sk-dashed-wrapped\"><div class=\"sk-label-container\"><div class=\"sk-label sk-toggleable\"><input class=\"sk-toggleable__control sk-hidden--visually\" id=\"sk-estimator-id-4\" type=\"checkbox\" ><label for=\"sk-estimator-id-4\" class=\"sk-toggleable__label sk-toggleable__label-arrow\">clf: VotingClassifier</label><div class=\"sk-toggleable__content\"><pre>VotingClassifier(estimators=[(&#x27;svm&#x27;, SVC(random_state=42)),\n",
       "                             (&#x27;rf&#x27;,\n",
       "                              RandomForestClassifier(n_estimators=500,\n",
       "                                                     n_jobs=-1,\n",
       "                                                     random_state=42))],\n",
       "                 voting=&#x27;soft&#x27;)</pre></div></div></div><div class=\"sk-parallel\"><div class=\"sk-parallel-item\"><div class=\"sk-item\"><div class=\"sk-label-container\"><div class=\"sk-label sk-toggleable\"><label>svm</label></div></div><div class=\"sk-serial\"><div class=\"sk-item\"><div class=\"sk-estimator sk-toggleable\"><input class=\"sk-toggleable__control sk-hidden--visually\" id=\"sk-estimator-id-5\" type=\"checkbox\" ><label for=\"sk-estimator-id-5\" class=\"sk-toggleable__label sk-toggleable__label-arrow\">SVC</label><div class=\"sk-toggleable__content\"><pre>SVC(random_state=42)</pre></div></div></div></div></div></div><div class=\"sk-parallel-item\"><div class=\"sk-item\"><div class=\"sk-label-container\"><div class=\"sk-label sk-toggleable\"><label>rf</label></div></div><div class=\"sk-serial\"><div class=\"sk-item\"><div class=\"sk-estimator sk-toggleable\"><input class=\"sk-toggleable__control sk-hidden--visually\" id=\"sk-estimator-id-6\" type=\"checkbox\" ><label for=\"sk-estimator-id-6\" class=\"sk-toggleable__label sk-toggleable__label-arrow\">RandomForestClassifier</label><div class=\"sk-toggleable__content\"><pre>RandomForestClassifier(n_estimators=500, n_jobs=-1, random_state=42)</pre></div></div></div></div></div></div></div></div></div></div></div></div>"
      ],
      "text/plain": [
       "Pipeline(steps=[('vect',\n",
       "                 CountVectorizer(ngram_range=(1, 3), stop_words='english')),\n",
       "                ('tfidf', TfidfTransformer()),\n",
       "                ('clf',\n",
       "                 VotingClassifier(estimators=[('svm', SVC(random_state=42)),\n",
       "                                              ('rf',\n",
       "                                               RandomForestClassifier(n_estimators=500,\n",
       "                                                                      n_jobs=-1,\n",
       "                                                                      random_state=42))],\n",
       "                                  voting='soft'))])"
      ]
     },
     "execution_count": 35,
     "metadata": {},
     "output_type": "execute_result"
    }
   ],
   "source": [
    "clf.fit(X=df_train[\"clean_text\"].to_list(), y=df_train[\"label\"].to_list())"
   ]
  },
  {
   "cell_type": "code",
   "execution_count": 36,
   "id": "e71d0948-a47a-4c0f-a40d-addef98ac937",
   "metadata": {
    "tags": []
   },
   "outputs": [
    {
     "ename": "AttributeError",
     "evalue": "predict_proba is not available when  probability=False",
     "output_type": "error",
     "traceback": [
      "\u001b[0;31m---------------------------------------------------------------------------\u001b[0m",
      "\u001b[0;31mAttributeError\u001b[0m                            Traceback (most recent call last)",
      "Cell \u001b[0;32mIn[36], line 1\u001b[0m\n\u001b[0;32m----> 1\u001b[0m \u001b[43mclf\u001b[49m\u001b[38;5;241;43m.\u001b[39;49m\u001b[43mscore\u001b[49m\u001b[43m(\u001b[49m\u001b[43mX\u001b[49m\u001b[38;5;241;43m=\u001b[39;49m\u001b[43mdf_test\u001b[49m\u001b[43m[\u001b[49m\u001b[38;5;124;43m\"\u001b[39;49m\u001b[38;5;124;43mclean_text\u001b[39;49m\u001b[38;5;124;43m\"\u001b[39;49m\u001b[43m]\u001b[49m\u001b[38;5;241;43m.\u001b[39;49m\u001b[43mto_list\u001b[49m\u001b[43m(\u001b[49m\u001b[43m)\u001b[49m\u001b[43m,\u001b[49m\u001b[43m \u001b[49m\u001b[43my\u001b[49m\u001b[38;5;241;43m=\u001b[39;49m\u001b[43mdf_test\u001b[49m\u001b[43m[\u001b[49m\u001b[38;5;124;43m\"\u001b[39;49m\u001b[38;5;124;43mlabel\u001b[39;49m\u001b[38;5;124;43m\"\u001b[39;49m\u001b[43m]\u001b[49m\u001b[38;5;241;43m.\u001b[39;49m\u001b[43mto_list\u001b[49m\u001b[43m(\u001b[49m\u001b[43m)\u001b[49m\u001b[43m)\u001b[49m\n",
      "File \u001b[0;32m~/miniconda3/envs/expenv/lib/python3.11/site-packages/sklearn/pipeline.py:722\u001b[0m, in \u001b[0;36mPipeline.score\u001b[0;34m(self, X, y, sample_weight)\u001b[0m\n\u001b[1;32m    720\u001b[0m \u001b[38;5;28;01mif\u001b[39;00m sample_weight \u001b[38;5;129;01mis\u001b[39;00m \u001b[38;5;129;01mnot\u001b[39;00m \u001b[38;5;28;01mNone\u001b[39;00m:\n\u001b[1;32m    721\u001b[0m     score_params[\u001b[38;5;124m\"\u001b[39m\u001b[38;5;124msample_weight\u001b[39m\u001b[38;5;124m\"\u001b[39m] \u001b[38;5;241m=\u001b[39m sample_weight\n\u001b[0;32m--> 722\u001b[0m \u001b[38;5;28;01mreturn\u001b[39;00m \u001b[38;5;28;43mself\u001b[39;49m\u001b[38;5;241;43m.\u001b[39;49m\u001b[43msteps\u001b[49m\u001b[43m[\u001b[49m\u001b[38;5;241;43m-\u001b[39;49m\u001b[38;5;241;43m1\u001b[39;49m\u001b[43m]\u001b[49m\u001b[43m[\u001b[49m\u001b[38;5;241;43m1\u001b[39;49m\u001b[43m]\u001b[49m\u001b[38;5;241;43m.\u001b[39;49m\u001b[43mscore\u001b[49m\u001b[43m(\u001b[49m\u001b[43mXt\u001b[49m\u001b[43m,\u001b[49m\u001b[43m \u001b[49m\u001b[43my\u001b[49m\u001b[43m,\u001b[49m\u001b[43m \u001b[49m\u001b[38;5;241;43m*\u001b[39;49m\u001b[38;5;241;43m*\u001b[39;49m\u001b[43mscore_params\u001b[49m\u001b[43m)\u001b[49m\n",
      "File \u001b[0;32m~/miniconda3/envs/expenv/lib/python3.11/site-packages/sklearn/base.py:668\u001b[0m, in \u001b[0;36mClassifierMixin.score\u001b[0;34m(self, X, y, sample_weight)\u001b[0m\n\u001b[1;32m    643\u001b[0m \u001b[38;5;250m\u001b[39m\u001b[38;5;124;03m\"\"\"\u001b[39;00m\n\u001b[1;32m    644\u001b[0m \u001b[38;5;124;03mReturn the mean accuracy on the given test data and labels.\u001b[39;00m\n\u001b[1;32m    645\u001b[0m \n\u001b[0;32m   (...)\u001b[0m\n\u001b[1;32m    664\u001b[0m \u001b[38;5;124;03m    Mean accuracy of ``self.predict(X)`` w.r.t. `y`.\u001b[39;00m\n\u001b[1;32m    665\u001b[0m \u001b[38;5;124;03m\"\"\"\u001b[39;00m\n\u001b[1;32m    666\u001b[0m \u001b[38;5;28;01mfrom\u001b[39;00m \u001b[38;5;21;01m.\u001b[39;00m\u001b[38;5;21;01mmetrics\u001b[39;00m \u001b[38;5;28;01mimport\u001b[39;00m accuracy_score\n\u001b[0;32m--> 668\u001b[0m \u001b[38;5;28;01mreturn\u001b[39;00m accuracy_score(y, \u001b[38;5;28;43mself\u001b[39;49m\u001b[38;5;241;43m.\u001b[39;49m\u001b[43mpredict\u001b[49m\u001b[43m(\u001b[49m\u001b[43mX\u001b[49m\u001b[43m)\u001b[49m, sample_weight\u001b[38;5;241m=\u001b[39msample_weight)\n",
      "File \u001b[0;32m~/miniconda3/envs/expenv/lib/python3.11/site-packages/sklearn/ensemble/_voting.py:363\u001b[0m, in \u001b[0;36mVotingClassifier.predict\u001b[0;34m(self, X)\u001b[0m\n\u001b[1;32m    361\u001b[0m check_is_fitted(\u001b[38;5;28mself\u001b[39m)\n\u001b[1;32m    362\u001b[0m \u001b[38;5;28;01mif\u001b[39;00m \u001b[38;5;28mself\u001b[39m\u001b[38;5;241m.\u001b[39mvoting \u001b[38;5;241m==\u001b[39m \u001b[38;5;124m\"\u001b[39m\u001b[38;5;124msoft\u001b[39m\u001b[38;5;124m\"\u001b[39m:\n\u001b[0;32m--> 363\u001b[0m     maj \u001b[38;5;241m=\u001b[39m np\u001b[38;5;241m.\u001b[39margmax(\u001b[38;5;28;43mself\u001b[39;49m\u001b[38;5;241;43m.\u001b[39;49m\u001b[43mpredict_proba\u001b[49m\u001b[43m(\u001b[49m\u001b[43mX\u001b[49m\u001b[43m)\u001b[49m, axis\u001b[38;5;241m=\u001b[39m\u001b[38;5;241m1\u001b[39m)\n\u001b[1;32m    365\u001b[0m \u001b[38;5;28;01melse\u001b[39;00m:  \u001b[38;5;66;03m# 'hard' voting\u001b[39;00m\n\u001b[1;32m    366\u001b[0m     predictions \u001b[38;5;241m=\u001b[39m \u001b[38;5;28mself\u001b[39m\u001b[38;5;241m.\u001b[39m_predict(X)\n",
      "File \u001b[0;32m~/miniconda3/envs/expenv/lib/python3.11/site-packages/sklearn/ensemble/_voting.py:404\u001b[0m, in \u001b[0;36mVotingClassifier.predict_proba\u001b[0;34m(self, X)\u001b[0m\n\u001b[1;32m    390\u001b[0m \u001b[38;5;250m\u001b[39m\u001b[38;5;124;03m\"\"\"Compute probabilities of possible outcomes for samples in X.\u001b[39;00m\n\u001b[1;32m    391\u001b[0m \n\u001b[1;32m    392\u001b[0m \u001b[38;5;124;03mParameters\u001b[39;00m\n\u001b[0;32m   (...)\u001b[0m\n\u001b[1;32m    400\u001b[0m \u001b[38;5;124;03m    Weighted average probability for each class per sample.\u001b[39;00m\n\u001b[1;32m    401\u001b[0m \u001b[38;5;124;03m\"\"\"\u001b[39;00m\n\u001b[1;32m    402\u001b[0m check_is_fitted(\u001b[38;5;28mself\u001b[39m)\n\u001b[1;32m    403\u001b[0m avg \u001b[38;5;241m=\u001b[39m np\u001b[38;5;241m.\u001b[39maverage(\n\u001b[0;32m--> 404\u001b[0m     \u001b[38;5;28;43mself\u001b[39;49m\u001b[38;5;241;43m.\u001b[39;49m\u001b[43m_collect_probas\u001b[49m\u001b[43m(\u001b[49m\u001b[43mX\u001b[49m\u001b[43m)\u001b[49m, axis\u001b[38;5;241m=\u001b[39m\u001b[38;5;241m0\u001b[39m, weights\u001b[38;5;241m=\u001b[39m\u001b[38;5;28mself\u001b[39m\u001b[38;5;241m.\u001b[39m_weights_not_none\n\u001b[1;32m    405\u001b[0m )\n\u001b[1;32m    406\u001b[0m \u001b[38;5;28;01mreturn\u001b[39;00m avg\n",
      "File \u001b[0;32m~/miniconda3/envs/expenv/lib/python3.11/site-packages/sklearn/ensemble/_voting.py:379\u001b[0m, in \u001b[0;36mVotingClassifier._collect_probas\u001b[0;34m(self, X)\u001b[0m\n\u001b[1;32m    377\u001b[0m \u001b[38;5;28;01mdef\u001b[39;00m \u001b[38;5;21m_collect_probas\u001b[39m(\u001b[38;5;28mself\u001b[39m, X):\n\u001b[1;32m    378\u001b[0m \u001b[38;5;250m    \u001b[39m\u001b[38;5;124;03m\"\"\"Collect results from clf.predict calls.\"\"\"\u001b[39;00m\n\u001b[0;32m--> 379\u001b[0m     \u001b[38;5;28;01mreturn\u001b[39;00m np\u001b[38;5;241m.\u001b[39masarray(\u001b[43m[\u001b[49m\u001b[43mclf\u001b[49m\u001b[38;5;241;43m.\u001b[39;49m\u001b[43mpredict_proba\u001b[49m\u001b[43m(\u001b[49m\u001b[43mX\u001b[49m\u001b[43m)\u001b[49m\u001b[43m \u001b[49m\u001b[38;5;28;43;01mfor\u001b[39;49;00m\u001b[43m \u001b[49m\u001b[43mclf\u001b[49m\u001b[43m \u001b[49m\u001b[38;5;129;43;01min\u001b[39;49;00m\u001b[43m \u001b[49m\u001b[38;5;28;43mself\u001b[39;49m\u001b[38;5;241;43m.\u001b[39;49m\u001b[43mestimators_\u001b[49m\u001b[43m]\u001b[49m)\n",
      "File \u001b[0;32m~/miniconda3/envs/expenv/lib/python3.11/site-packages/sklearn/ensemble/_voting.py:379\u001b[0m, in \u001b[0;36m<listcomp>\u001b[0;34m(.0)\u001b[0m\n\u001b[1;32m    377\u001b[0m \u001b[38;5;28;01mdef\u001b[39;00m \u001b[38;5;21m_collect_probas\u001b[39m(\u001b[38;5;28mself\u001b[39m, X):\n\u001b[1;32m    378\u001b[0m \u001b[38;5;250m    \u001b[39m\u001b[38;5;124;03m\"\"\"Collect results from clf.predict calls.\"\"\"\u001b[39;00m\n\u001b[0;32m--> 379\u001b[0m     \u001b[38;5;28;01mreturn\u001b[39;00m np\u001b[38;5;241m.\u001b[39masarray([\u001b[43mclf\u001b[49m\u001b[38;5;241;43m.\u001b[39;49m\u001b[43mpredict_proba\u001b[49m(X) \u001b[38;5;28;01mfor\u001b[39;00m clf \u001b[38;5;129;01min\u001b[39;00m \u001b[38;5;28mself\u001b[39m\u001b[38;5;241m.\u001b[39mestimators_])\n",
      "File \u001b[0;32m~/miniconda3/envs/expenv/lib/python3.11/site-packages/sklearn/utils/_available_if.py:32\u001b[0m, in \u001b[0;36m_AvailableIfDescriptor.__get__\u001b[0;34m(self, obj, owner)\u001b[0m\n\u001b[1;32m     26\u001b[0m attr_err \u001b[38;5;241m=\u001b[39m \u001b[38;5;167;01mAttributeError\u001b[39;00m(\n\u001b[1;32m     27\u001b[0m     \u001b[38;5;124mf\u001b[39m\u001b[38;5;124m\"\u001b[39m\u001b[38;5;124mThis \u001b[39m\u001b[38;5;132;01m{\u001b[39;00m\u001b[38;5;28mrepr\u001b[39m(owner\u001b[38;5;241m.\u001b[39m\u001b[38;5;18m__name__\u001b[39m)\u001b[38;5;132;01m}\u001b[39;00m\u001b[38;5;124m has no attribute \u001b[39m\u001b[38;5;132;01m{\u001b[39;00m\u001b[38;5;28mrepr\u001b[39m(\u001b[38;5;28mself\u001b[39m\u001b[38;5;241m.\u001b[39mattribute_name)\u001b[38;5;132;01m}\u001b[39;00m\u001b[38;5;124m\"\u001b[39m\n\u001b[1;32m     28\u001b[0m )\n\u001b[1;32m     29\u001b[0m \u001b[38;5;28;01mif\u001b[39;00m obj \u001b[38;5;129;01mis\u001b[39;00m \u001b[38;5;129;01mnot\u001b[39;00m \u001b[38;5;28;01mNone\u001b[39;00m:\n\u001b[1;32m     30\u001b[0m     \u001b[38;5;66;03m# delegate only on instances, not the classes.\u001b[39;00m\n\u001b[1;32m     31\u001b[0m     \u001b[38;5;66;03m# this is to allow access to the docstrings.\u001b[39;00m\n\u001b[0;32m---> 32\u001b[0m     \u001b[38;5;28;01mif\u001b[39;00m \u001b[38;5;129;01mnot\u001b[39;00m \u001b[38;5;28;43mself\u001b[39;49m\u001b[38;5;241;43m.\u001b[39;49m\u001b[43mcheck\u001b[49m\u001b[43m(\u001b[49m\u001b[43mobj\u001b[49m\u001b[43m)\u001b[49m:\n\u001b[1;32m     33\u001b[0m         \u001b[38;5;28;01mraise\u001b[39;00m attr_err\n\u001b[1;32m     34\u001b[0m     out \u001b[38;5;241m=\u001b[39m MethodType(\u001b[38;5;28mself\u001b[39m\u001b[38;5;241m.\u001b[39mfn, obj)\n",
      "File \u001b[0;32m~/miniconda3/envs/expenv/lib/python3.11/site-packages/sklearn/svm/_base.py:829\u001b[0m, in \u001b[0;36mBaseSVC._check_proba\u001b[0;34m(self)\u001b[0m\n\u001b[1;32m    827\u001b[0m \u001b[38;5;28;01mdef\u001b[39;00m \u001b[38;5;21m_check_proba\u001b[39m(\u001b[38;5;28mself\u001b[39m):\n\u001b[1;32m    828\u001b[0m     \u001b[38;5;28;01mif\u001b[39;00m \u001b[38;5;129;01mnot\u001b[39;00m \u001b[38;5;28mself\u001b[39m\u001b[38;5;241m.\u001b[39mprobability:\n\u001b[0;32m--> 829\u001b[0m         \u001b[38;5;28;01mraise\u001b[39;00m \u001b[38;5;167;01mAttributeError\u001b[39;00m(\n\u001b[1;32m    830\u001b[0m             \u001b[38;5;124m\"\u001b[39m\u001b[38;5;124mpredict_proba is not available when  probability=False\u001b[39m\u001b[38;5;124m\"\u001b[39m\n\u001b[1;32m    831\u001b[0m         )\n\u001b[1;32m    832\u001b[0m     \u001b[38;5;28;01mif\u001b[39;00m \u001b[38;5;28mself\u001b[39m\u001b[38;5;241m.\u001b[39m_impl \u001b[38;5;129;01mnot\u001b[39;00m \u001b[38;5;129;01min\u001b[39;00m (\u001b[38;5;124m\"\u001b[39m\u001b[38;5;124mc_svc\u001b[39m\u001b[38;5;124m\"\u001b[39m, \u001b[38;5;124m\"\u001b[39m\u001b[38;5;124mnu_svc\u001b[39m\u001b[38;5;124m\"\u001b[39m):\n\u001b[1;32m    833\u001b[0m         \u001b[38;5;28;01mraise\u001b[39;00m \u001b[38;5;167;01mAttributeError\u001b[39;00m(\u001b[38;5;124m\"\u001b[39m\u001b[38;5;124mpredict_proba only implemented for SVC and NuSVC\u001b[39m\u001b[38;5;124m\"\u001b[39m)\n",
      "\u001b[0;31mAttributeError\u001b[0m: predict_proba is not available when  probability=False"
     ]
    }
   ],
   "source": [
    "clf.score(X=df_test[\"clean_text\"].to_list(), y=df_test[\"label\"].to_list())"
   ]
  },
  {
   "cell_type": "code",
   "execution_count": null,
   "id": "f281e7e6-dafd-45c3-87fa-6578417bf4bc",
   "metadata": {},
   "outputs": [],
   "source": []
  }
 ],
 "metadata": {
  "kernelspec": {
   "display_name": "Python 3 (ipykernel)",
   "language": "python",
   "name": "python3"
  },
  "language_info": {
   "codemirror_mode": {
    "name": "ipython",
    "version": 3
   },
   "file_extension": ".py",
   "mimetype": "text/x-python",
   "name": "python",
   "nbconvert_exporter": "python",
   "pygments_lexer": "ipython3",
   "version": "3.11.7"
  }
 },
 "nbformat": 4,
 "nbformat_minor": 5
}
