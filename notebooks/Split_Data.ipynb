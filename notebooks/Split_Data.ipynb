{
 "cells": [
  {
   "cell_type": "code",
   "execution_count": 1,
   "id": "3e5e971d-0480-4cb0-afec-bcc85d0c6507",
   "metadata": {
    "tags": []
   },
   "outputs": [],
   "source": [
    "import json\n",
    "import os\n",
    "\n",
    "import numpy as np\n",
    "import polars as pol\n",
    "from sklearn.model_selection import train_test_split"
   ]
  },
  {
   "cell_type": "code",
   "execution_count": 2,
   "id": "5c3e7786-3bb4-4cbc-bb5c-3a7397d89f97",
   "metadata": {
    "tags": []
   },
   "outputs": [],
   "source": [
    "df = pol.read_csv(\"../data/vodafone_data_short_head.csv\")"
   ]
  },
  {
   "cell_type": "code",
   "execution_count": 3,
   "id": "c6891eba-4540-4012-a096-bc1574f36fcd",
   "metadata": {
    "tags": []
   },
   "outputs": [
    {
     "data": {
      "text/html": [
       "<div><style>\n",
       ".dataframe > thead > tr > th,\n",
       ".dataframe > tbody > tr > td {\n",
       "  text-align: right;\n",
       "  white-space: pre-wrap;\n",
       "}\n",
       "</style>\n",
       "<small>shape: (5, 9)</small><table border=\"1\" class=\"dataframe\"><thead><tr><th>Incident_No</th><th>Description</th><th>Assigned_Group</th><th>Incident_Type</th><th>Production_Category</th><th>Operational_Category</th><th>n_words</th><th>clean_text</th><th>Assigned_Group_fixed</th></tr><tr><td>str</td><td>str</td><td>str</td><td>str</td><td>str</td><td>str</td><td>i64</td><td>str</td><td>str</td></tr></thead><tbody><tr><td>&quot;INC00000776724…</td><td>&quot;New Campaign |…</td><td>&quot;CM Support&quot;</td><td>&quot;User Service R…</td><td>&quot;Business Appli…</td><td>&quot;Critical Appli…</td><td>32</td><td>&quot;new campaign  …</td><td>&quot;cm support&quot;</td></tr><tr><td>&quot;INC00000776689…</td><td>&quot;CRM Applicatio…</td><td>&quot;War Room&quot;</td><td>&quot;User Service R…</td><td>&quot;Business Appli…</td><td>&quot;Issue_Applicat…</td><td>69</td><td>&quot;crm applicatio…</td><td>&quot;war room&quot;</td></tr><tr><td>&quot;INC00000776602…</td><td>&quot;vpn id not wor…</td><td>&quot;Dispatcher&quot;</td><td>&quot;User Service R…</td><td>&quot;Software_Opera…</td><td>&quot;Issue_Access_F…</td><td>62</td><td>&quot;vpn id not wor…</td><td>&quot;dispatcher&quot;</td></tr><tr><td>&quot;INC00000776570…</td><td>&quot;Mview Refresh …</td><td>&quot;SSO-DBA-Dispat…</td><td>&quot;User Service R…</td><td>&quot;Business Appli…</td><td>&quot;Central Applic…</td><td>48</td><td>&quot;mview refresh …</td><td>&quot;sso-dba&quot;</td></tr><tr><td>&quot;INC00000776570…</td><td>&quot;OS login issue…</td><td>&quot;Dispatcher&quot;</td><td>&quot;User Service R…</td><td>&quot;Software_Opera…</td><td>&quot;Hardware_Acces…</td><td>30</td><td>&quot;os login issue…</td><td>&quot;dispatcher&quot;</td></tr></tbody></table></div>"
      ],
      "text/plain": [
       "shape: (5, 9)\n",
       "┌────────────┬───────────┬───────────┬───────────┬───┬───────────┬─────────┬───────────┬───────────┐\n",
       "│ Incident_N ┆ Descripti ┆ Assigned_ ┆ Incident_ ┆ … ┆ Operation ┆ n_words ┆ clean_tex ┆ Assigned_ │\n",
       "│ o          ┆ on        ┆ Group     ┆ Type      ┆   ┆ al_Catego ┆ ---     ┆ t         ┆ Group_fix │\n",
       "│ ---        ┆ ---       ┆ ---       ┆ ---       ┆   ┆ ry        ┆ i64     ┆ ---       ┆ ed        │\n",
       "│ str        ┆ str       ┆ str       ┆ str       ┆   ┆ ---       ┆         ┆ str       ┆ ---       │\n",
       "│            ┆           ┆           ┆           ┆   ┆ str       ┆         ┆           ┆ str       │\n",
       "╞════════════╪═══════════╪═══════════╪═══════════╪═══╪═══════════╪═════════╪═══════════╪═══════════╡\n",
       "│ INC0000077 ┆ New       ┆ CM        ┆ User      ┆ … ┆ Critical  ┆ 32      ┆ new       ┆ cm        │\n",
       "│ 67243      ┆ Campaign  ┆ Support   ┆ Service   ┆   ┆ Applicati ┆         ┆ campaign  ┆ support   │\n",
       "│            ┆ | Orissa  ┆           ┆ Request   ┆   ┆ ons_CM    ┆         ┆ orissa    ┆           │\n",
       "│            ┆ | Data    ┆           ┆           ┆   ┆ Applica…  ┆         ┆ data      ┆           │\n",
       "│            ┆ Seg…      ┆           ┆           ┆   ┆           ┆         ┆ segme…    ┆           │\n",
       "│ INC0000077 ┆ CRM Appli ┆ War Room  ┆ User      ┆ … ┆ Issue_App ┆ 69      ┆ crm appli ┆ war room  │\n",
       "│ 66897      ┆ cation    ┆           ┆ Service   ┆   ┆ lication_ ┆         ┆ cation    ┆           │\n",
       "│            ┆ all Tab   ┆           ┆ Restorati ┆   ┆ Functiona ┆         ┆ all tab   ┆           │\n",
       "│            ┆ working … ┆           ┆ on        ┆   ┆ lity      ┆         ┆ working … ┆           │\n",
       "│ INC0000077 ┆ vpn id    ┆ Dispatche ┆ User      ┆ … ┆ Issue_Acc ┆ 62      ┆ vpn id    ┆ dispatche │\n",
       "│ 66029      ┆ not       ┆ r         ┆ Service   ┆   ┆ ess_Failu ┆         ┆ not       ┆ r         │\n",
       "│            ┆ working   ┆           ┆ Restorati ┆   ┆ re        ┆         ┆ working   ┆           │\n",
       "│            ┆ Hi team,  ┆           ┆ on        ┆   ┆           ┆         ┆ hi team   ┆           │\n",
       "│            ┆ …         ┆           ┆           ┆   ┆           ┆         ┆ ple…      ┆           │\n",
       "│ INC0000077 ┆ Mview     ┆ SSO-DBA-D ┆ User      ┆ … ┆ Central   ┆ 48      ┆ mview     ┆ sso-dba   │\n",
       "│ 65708      ┆ Refresh | ┆ ispatcher ┆ Service   ┆   ┆ Applicati ┆         ┆ refresh   ┆           │\n",
       "│            ┆ 30th May  ┆           ┆ Request   ┆   ┆ on - cPOS ┆         ┆ 30th may  ┆           │\n",
       "│            ┆ 2019 Hi…  ┆           ┆           ┆   ┆ _OTHER…   ┆         ┆ 2019 hi … ┆           │\n",
       "│ INC0000077 ┆ OS login  ┆ Dispatche ┆ User      ┆ … ┆ Hardware_ ┆ 30      ┆ os login  ┆ dispatche │\n",
       "│ 65704      ┆ issue     ┆ r         ┆ Service   ┆   ┆ Access_As ┆         ┆ issue     ┆ r         │\n",
       "│            ┆ Issue –   ┆           ┆ Restorati ┆   ┆ set       ┆         ┆ issue     ┆           │\n",
       "│            ┆ OS login  ┆           ┆ on        ┆   ┆           ┆         ┆ u2013 os  ┆           │\n",
       "│            ┆ …         ┆           ┆           ┆   ┆           ┆         ┆ lo…       ┆           │\n",
       "└────────────┴───────────┴───────────┴───────────┴───┴───────────┴─────────┴───────────┴───────────┘"
      ]
     },
     "execution_count": 3,
     "metadata": {},
     "output_type": "execute_result"
    }
   ],
   "source": [
    "df.head()"
   ]
  },
  {
   "cell_type": "code",
   "execution_count": 4,
   "id": "d8ad246d-4ac6-4964-8197-855aa104647f",
   "metadata": {
    "tags": []
   },
   "outputs": [
    {
     "data": {
      "text/plain": [
       "{'iam provisioning': 0,\n",
       " 'sso-eai-reccpe': 1,\n",
       " 'l2 smart app': 2,\n",
       " 'iam-sarm': 3,\n",
       " 'war room': 4,\n",
       " 'project everest bpa': 5,\n",
       " 'evo tech scp': 6,\n",
       " 'ebpp': 7,\n",
       " 'recc': 8,\n",
       " 'sdp-apoena amp': 9,\n",
       " 'bi ': 10,\n",
       " 'l2-cti support': 11,\n",
       " 'disha crm-crm-pune-metropolitan': 12,\n",
       " 'l2-vtopup': 13,\n",
       " 'network': 14,\n",
       " 'ro': 15,\n",
       " 'sso-apm-wintel': 16,\n",
       " 'user id mgmt': 17,\n",
       " 'mdm-l1 support': 18,\n",
       " 'amdocs_': 19,\n",
       " 'siebelcrm_hyper care_l1 ops_techm': 20,\n",
       " 'vodafone cloud l1': 21,\n",
       " 'central application-npg': 22,\n",
       " 'cit-upss-upss-support': 23,\n",
       " 'l2-nsms support': 24,\n",
       " 'service desk-fcr': 25,\n",
       " 'mediation': 26,\n",
       " 'enterprise crm operation support': 27,\n",
       " 'billing configuration': 28,\n",
       " 'l2-simex support': 29,\n",
       " 'l2-crm ops support': 30,\n",
       " 'sam operation ops': 31,\n",
       " 'ra mediation-pune-metropolitan': 32,\n",
       " 'sso-remedy': 33,\n",
       " 'its-ssk payment': 34,\n",
       " 'eshop': 35,\n",
       " 'amdocs_bpm_am': 36,\n",
       " 'l1-crm postpaid support': 37,\n",
       " 'cit-cpos-cpossupport': 38,\n",
       " 'cm support': 39,\n",
       " 'l2 dhruv support': 40,\n",
       " 'sso-opssupport': 41,\n",
       " 'l2-ipops_cms support': 42,\n",
       " 'application support': 43,\n",
       " 'icb-nld': 44,\n",
       " 'dispatcher': 45,\n",
       " 'oracle l1 support': 46,\n",
       " 'css/ess-my vodafone': 47,\n",
       " 'mva-ops': 48,\n",
       " 'askevo': 49,\n",
       " 'billing operations': 50,\n",
       " 'mobicule': 51,\n",
       " 'mpesa core': 52,\n",
       " 'sso-dba': 53,\n",
       " 'crm_vas_cad_ocg_msg': 54,\n",
       " 'security operations': 55,\n",
       " 'revenue assurance solution': 56,\n",
       " 'bss-myworld': 57,\n",
       " 'eus': 58,\n",
       " 'l1-wintel': 59,\n",
       " 'tbo-mis-pune-metropolitan': 60}"
      ]
     },
     "execution_count": 4,
     "metadata": {},
     "output_type": "execute_result"
    }
   ],
   "source": [
    "label_map = {\n",
    "    k: idx for idx, k in enumerate(df[\"Assigned_Group_fixed\"].unique().to_list())\n",
    "}\n",
    "label_map"
   ]
  },
  {
   "cell_type": "code",
   "execution_count": 5,
   "id": "547be97d-9780-42d4-9581-5e3550c752a8",
   "metadata": {
    "tags": []
   },
   "outputs": [
    {
     "data": {
      "text/html": [
       "<div><style>\n",
       ".dataframe > thead > tr > th,\n",
       ".dataframe > tbody > tr > td {\n",
       "  text-align: right;\n",
       "  white-space: pre-wrap;\n",
       "}\n",
       "</style>\n",
       "<small>shape: (5, 10)</small><table border=\"1\" class=\"dataframe\"><thead><tr><th>Incident_No</th><th>Description</th><th>Assigned_Group</th><th>Incident_Type</th><th>Production_Category</th><th>Operational_Category</th><th>n_words</th><th>clean_text</th><th>Assigned_Group_fixed</th><th>label</th></tr><tr><td>str</td><td>str</td><td>str</td><td>str</td><td>str</td><td>str</td><td>i64</td><td>str</td><td>str</td><td>i64</td></tr></thead><tbody><tr><td>&quot;INC00000776724…</td><td>&quot;New Campaign |…</td><td>&quot;CM Support&quot;</td><td>&quot;User Service R…</td><td>&quot;Business Appli…</td><td>&quot;Critical Appli…</td><td>32</td><td>&quot;new campaign  …</td><td>&quot;cm support&quot;</td><td>39</td></tr><tr><td>&quot;INC00000776689…</td><td>&quot;CRM Applicatio…</td><td>&quot;War Room&quot;</td><td>&quot;User Service R…</td><td>&quot;Business Appli…</td><td>&quot;Issue_Applicat…</td><td>69</td><td>&quot;crm applicatio…</td><td>&quot;war room&quot;</td><td>4</td></tr><tr><td>&quot;INC00000776602…</td><td>&quot;vpn id not wor…</td><td>&quot;Dispatcher&quot;</td><td>&quot;User Service R…</td><td>&quot;Software_Opera…</td><td>&quot;Issue_Access_F…</td><td>62</td><td>&quot;vpn id not wor…</td><td>&quot;dispatcher&quot;</td><td>45</td></tr><tr><td>&quot;INC00000776570…</td><td>&quot;Mview Refresh …</td><td>&quot;SSO-DBA-Dispat…</td><td>&quot;User Service R…</td><td>&quot;Business Appli…</td><td>&quot;Central Applic…</td><td>48</td><td>&quot;mview refresh …</td><td>&quot;sso-dba&quot;</td><td>53</td></tr><tr><td>&quot;INC00000776570…</td><td>&quot;OS login issue…</td><td>&quot;Dispatcher&quot;</td><td>&quot;User Service R…</td><td>&quot;Software_Opera…</td><td>&quot;Hardware_Acces…</td><td>30</td><td>&quot;os login issue…</td><td>&quot;dispatcher&quot;</td><td>45</td></tr></tbody></table></div>"
      ],
      "text/plain": [
       "shape: (5, 10)\n",
       "┌────────────┬────────────┬────────────┬────────────┬───┬─────────┬────────────┬───────────┬───────┐\n",
       "│ Incident_N ┆ Descriptio ┆ Assigned_G ┆ Incident_T ┆ … ┆ n_words ┆ clean_text ┆ Assigned_ ┆ label │\n",
       "│ o          ┆ n          ┆ roup       ┆ ype        ┆   ┆ ---     ┆ ---        ┆ Group_fix ┆ ---   │\n",
       "│ ---        ┆ ---        ┆ ---        ┆ ---        ┆   ┆ i64     ┆ str        ┆ ed        ┆ i64   │\n",
       "│ str        ┆ str        ┆ str        ┆ str        ┆   ┆         ┆            ┆ ---       ┆       │\n",
       "│            ┆            ┆            ┆            ┆   ┆         ┆            ┆ str       ┆       │\n",
       "╞════════════╪════════════╪════════════╪════════════╪═══╪═════════╪════════════╪═══════════╪═══════╡\n",
       "│ INC0000077 ┆ New        ┆ CM Support ┆ User       ┆ … ┆ 32      ┆ new        ┆ cm        ┆ 39    │\n",
       "│ 67243      ┆ Campaign | ┆            ┆ Service    ┆   ┆         ┆ campaign   ┆ support   ┆       │\n",
       "│            ┆ Orissa |   ┆            ┆ Request    ┆   ┆         ┆ orissa     ┆           ┆       │\n",
       "│            ┆ Data Seg…  ┆            ┆            ┆   ┆         ┆ data       ┆           ┆       │\n",
       "│            ┆            ┆            ┆            ┆   ┆         ┆ segme…     ┆           ┆       │\n",
       "│ INC0000077 ┆ CRM Applic ┆ War Room   ┆ User       ┆ … ┆ 69      ┆ crm applic ┆ war room  ┆ 4     │\n",
       "│ 66897      ┆ ation all  ┆            ┆ Service    ┆   ┆         ┆ ation all  ┆           ┆       │\n",
       "│            ┆ Tab        ┆            ┆ Restoratio ┆   ┆         ┆ tab        ┆           ┆       │\n",
       "│            ┆ working …  ┆            ┆ n          ┆   ┆         ┆ working …  ┆           ┆       │\n",
       "│ INC0000077 ┆ vpn id not ┆ Dispatcher ┆ User       ┆ … ┆ 62      ┆ vpn id not ┆ dispatche ┆ 45    │\n",
       "│ 66029      ┆ working    ┆            ┆ Service    ┆   ┆         ┆ working hi ┆ r         ┆       │\n",
       "│            ┆ Hi team,   ┆            ┆ Restoratio ┆   ┆         ┆ team       ┆           ┆       │\n",
       "│            ┆ …          ┆            ┆ n          ┆   ┆         ┆ ple…       ┆           ┆       │\n",
       "│ INC0000077 ┆ Mview      ┆ SSO-DBA-Di ┆ User       ┆ … ┆ 48      ┆ mview      ┆ sso-dba   ┆ 53    │\n",
       "│ 65708      ┆ Refresh |  ┆ spatcher   ┆ Service    ┆   ┆         ┆ refresh    ┆           ┆       │\n",
       "│            ┆ 30th May   ┆            ┆ Request    ┆   ┆         ┆ 30th may   ┆           ┆       │\n",
       "│            ┆ 2019 Hi…   ┆            ┆            ┆   ┆         ┆ 2019 hi …  ┆           ┆       │\n",
       "│ INC0000077 ┆ OS login   ┆ Dispatcher ┆ User       ┆ … ┆ 30      ┆ os login   ┆ dispatche ┆ 45    │\n",
       "│ 65704      ┆ issue      ┆            ┆ Service    ┆   ┆         ┆ issue      ┆ r         ┆       │\n",
       "│            ┆ Issue – OS ┆            ┆ Restoratio ┆   ┆         ┆ issue      ┆           ┆       │\n",
       "│            ┆ login …    ┆            ┆ n          ┆   ┆         ┆ u2013 os   ┆           ┆       │\n",
       "│            ┆            ┆            ┆            ┆   ┆         ┆ lo…        ┆           ┆       │\n",
       "└────────────┴────────────┴────────────┴────────────┴───┴─────────┴────────────┴───────────┴───────┘"
      ]
     },
     "execution_count": 5,
     "metadata": {},
     "output_type": "execute_result"
    }
   ],
   "source": [
    "df = df.with_columns(\n",
    "    (pol.col(\"Assigned_Group_fixed\").map_dict(label_map)).alias(\"label\")\n",
    ")\n",
    "df.head()"
   ]
  },
  {
   "cell_type": "code",
   "execution_count": 6,
   "id": "6c54be2e-874e-44e9-8ecd-b0fd2294198d",
   "metadata": {
    "tags": []
   },
   "outputs": [
    {
     "name": "stdout",
     "output_type": "stream",
     "text": [
      "Shape of the training data: (35160, 10)\n",
      "Shape of the validation data: (4395, 10)\n",
      "Shape of the test data: (4395, 10)\n"
     ]
    }
   ],
   "source": [
    "df_train, df_test = train_test_split(\n",
    "    df, test_size=0.2, random_state=32, shuffle=True, stratify=df.select(\"label\")\n",
    ")\n",
    "\n",
    "df_val, df_test = train_test_split(df_test, test_size=0.5, shuffle=False)\n",
    "\n",
    "print(f\"Shape of the training data: {df_train.shape}\")\n",
    "print(f\"Shape of the validation data: {df_val.shape}\")\n",
    "print(f\"Shape of the test data: {df_test.shape}\")"
   ]
  },
  {
   "cell_type": "code",
   "execution_count": 7,
   "id": "8e2b9a7b-7461-4ceb-8752-dc9e42eb15c4",
   "metadata": {
    "tags": []
   },
   "outputs": [],
   "source": [
    "if not os.path.exists(\"../data/voda_idea_data_splits/\"):\n",
    "    os.mkdir(\"../data/voda_idea_data_splits/\")"
   ]
  },
  {
   "cell_type": "code",
   "execution_count": 8,
   "id": "c2fdab69-e0aa-42a5-a116-7fc1351d3d3f",
   "metadata": {
    "tags": []
   },
   "outputs": [],
   "source": [
    "df_train.write_csv(\"../data/voda_idea_data_splits/train.csv\")"
   ]
  },
  {
   "cell_type": "code",
   "execution_count": 9,
   "id": "145757d7-c935-4d3e-a380-145f0a9493e2",
   "metadata": {
    "tags": []
   },
   "outputs": [],
   "source": [
    "df_val.write_csv(\"../data/voda_idea_data_splits/val.csv\")"
   ]
  },
  {
   "cell_type": "code",
   "execution_count": 10,
   "id": "b91d1aeb-8dd3-4652-b5a9-8776eac7e393",
   "metadata": {
    "tags": []
   },
   "outputs": [],
   "source": [
    "df_test.write_csv(\"../data/voda_idea_data_splits/test.csv\")"
   ]
  },
  {
   "cell_type": "code",
   "execution_count": 11,
   "id": "d68f1bce-98fb-471c-9f94-8f75a0d4934c",
   "metadata": {},
   "outputs": [],
   "source": [
    "with open(\"../data/voda_idea_data_splits/label_map.json\", \"w\") as fp:\n",
    "    json.dump(label_map, fp, indent=4)"
   ]
  },
  {
   "cell_type": "code",
   "execution_count": null,
   "id": "b011d63e-964a-4f4f-8d36-696f51d4d481",
   "metadata": {},
   "outputs": [],
   "source": []
  }
 ],
 "metadata": {
  "kernelspec": {
   "display_name": "Python 3 (ipykernel)",
   "language": "python",
   "name": "python3"
  },
  "language_info": {
   "codemirror_mode": {
    "name": "ipython",
    "version": 3
   },
   "file_extension": ".py",
   "mimetype": "text/x-python",
   "name": "python",
   "nbconvert_exporter": "python",
   "pygments_lexer": "ipython3",
   "version": "3.11.7"
  }
 },
 "nbformat": 4,
 "nbformat_minor": 5
}
