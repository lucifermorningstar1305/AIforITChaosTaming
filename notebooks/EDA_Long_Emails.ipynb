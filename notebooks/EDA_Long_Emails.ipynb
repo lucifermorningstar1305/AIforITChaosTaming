{
 "cells": [
  {
   "cell_type": "code",
   "execution_count": 1,
   "id": "cd260dfd-7449-40ad-a640-b550094bf3ce",
   "metadata": {},
   "outputs": [],
   "source": [
    "import os\n",
    "import re\n",
    "import sys\n",
    "from email import policy\n",
    "from email.parser import Parser\n",
    "from typing import Any, Dict, List, Optional, Tuple\n",
    "\n",
    "import matplotlib.pyplot as plt\n",
    "import numpy as np\n",
    "import polars as pol\n",
    "import seaborn as sns\n",
    "from nltk.tokenize import word_tokenize"
   ]
  },
  {
   "cell_type": "code",
   "execution_count": 2,
   "id": "9ccc3b83-035b-4243-9e04-679b44289efb",
   "metadata": {
    "tags": []
   },
   "outputs": [
    {
     "data": {
      "text/html": [
       "<div><style>\n",
       ".dataframe > thead > tr > th,\n",
       ".dataframe > tbody > tr > td {\n",
       "  text-align: right;\n",
       "  white-space: pre-wrap;\n",
       "}\n",
       "</style>\n",
       "<small>shape: (5, 6)</small><table border=\"1\" class=\"dataframe\"><thead><tr><th>Incident_No</th><th>Description</th><th>Assigned_Group</th><th>Incident_Type</th><th>Production_Category</th><th>Operational_Category</th></tr><tr><td>str</td><td>str</td><td>str</td><td>str</td><td>str</td><td>str</td></tr></thead><tbody><tr><td>&quot;INC00000776728…</td><td>&quot;Please resolve…</td><td>&quot;AskEvo&quot;</td><td>&quot;User Service R…</td><td>&quot;Application_De…</td><td>&quot;Issue_Applicat…</td></tr><tr><td>&quot;INC00000776724…</td><td>&quot;New Campaign |…</td><td>&quot;CM Support&quot;</td><td>&quot;User Service R…</td><td>&quot;Business Appli…</td><td>&quot;Critical Appli…</td></tr><tr><td>&quot;INC00000776689…</td><td>&quot;CRM Applicatio…</td><td>&quot;War Room&quot;</td><td>&quot;User Service R…</td><td>&quot;Business Appli…</td><td>&quot;Issue_Applicat…</td></tr><tr><td>&quot;INC00000776650…</td><td>&quot;Kindly do my o…</td><td>&quot;Onboarding/Off…</td><td>&quot;User Service R…</td><td>&quot;Business Appli…</td><td>&quot;SDP - CG_other…</td></tr><tr><td>&quot;INC00000776602…</td><td>&quot;vpn id not wor…</td><td>&quot;Dispatcher&quot;</td><td>&quot;User Service R…</td><td>&quot;Software_Opera…</td><td>&quot;Issue_Access_F…</td></tr></tbody></table></div>"
      ],
      "text/plain": [
       "shape: (5, 6)\n",
       "┌────────────────┬────────────────┬────────────────┬───────────────┬───────────────┬───────────────┐\n",
       "│ Incident_No    ┆ Description    ┆ Assigned_Group ┆ Incident_Type ┆ Production_Ca ┆ Operational_C │\n",
       "│ ---            ┆ ---            ┆ ---            ┆ ---           ┆ tegory        ┆ ategory       │\n",
       "│ str            ┆ str            ┆ str            ┆ str           ┆ ---           ┆ ---           │\n",
       "│                ┆                ┆                ┆               ┆ str           ┆ str           │\n",
       "╞════════════════╪════════════════╪════════════════╪═══════════════╪═══════════════╪═══════════════╡\n",
       "│ INC00000776728 ┆ Please resolve ┆ AskEvo         ┆ User Service  ┆ Application_D ┆ Issue_Applica │\n",
       "│ 4              ┆ Urgently       ┆                ┆ Restoration   ┆ esktop        ┆ tion_Function │\n",
       "│                ┆  …             ┆                ┆               ┆ Application_… ┆ ality         │\n",
       "│ INC00000776724 ┆ New Campaign | ┆ CM Support     ┆ User Service  ┆ Business Appl ┆ Critical Appl │\n",
       "│ 3              ┆ Orissa | Data  ┆                ┆ Request       ┆ ications_Cent ┆ ications_CM   │\n",
       "│                ┆ Seg…           ┆                ┆               ┆ ral Ap…       ┆ Applica…      │\n",
       "│ INC00000776689 ┆ CRM            ┆ War Room       ┆ User Service  ┆ Business Appl ┆ Issue_Applica │\n",
       "│ 7              ┆ Application    ┆                ┆ Restoration   ┆ ications_Cent ┆ tion_Function │\n",
       "│                ┆ all Tab        ┆                ┆               ┆ ral Ap…       ┆ ality         │\n",
       "│                ┆ working …      ┆                ┆               ┆               ┆               │\n",
       "│ INC00000776650 ┆ Kindly do my   ┆ Onboarding/Off ┆ User Service  ┆ Business Appl ┆ SDP - CG_othe │\n",
       "│ 1              ┆ onboarding     ┆ boarding       ┆ Request       ┆ ication_Centr ┆ r_other       │\n",
       "│                ┆ Dear Tea…      ┆                ┆               ┆ al App…       ┆               │\n",
       "│ INC00000776602 ┆ vpn id not     ┆ Dispatcher     ┆ User Service  ┆ Software_Oper ┆ Issue_Access_ │\n",
       "│ 9              ┆ working   Hi   ┆                ┆ Restoration   ┆ ating         ┆ Failure       │\n",
       "│                ┆ team,   …      ┆                ┆               ┆ System_Wintel ┆               │\n",
       "└────────────────┴────────────────┴────────────────┴───────────────┴───────────────┴───────────────┘"
      ]
     },
     "execution_count": 2,
     "metadata": {},
     "output_type": "execute_result"
    }
   ],
   "source": [
    "df = pol.read_csv(\"../data/Vodafone_IDEA_data.csv\")\n",
    "df.head()"
   ]
  },
  {
   "cell_type": "code",
   "execution_count": 3,
   "id": "c2f80877-ee93-4ad3-9f92-cc37f88600be",
   "metadata": {},
   "outputs": [
    {
     "data": {
      "text/plain": [
       "(50968, 6)"
      ]
     },
     "execution_count": 3,
     "metadata": {},
     "output_type": "execute_result"
    }
   ],
   "source": [
    "df.shape"
   ]
  },
  {
   "cell_type": "code",
   "execution_count": 4,
   "id": "b24ea689-b92c-43c0-8778-0c698cf820bf",
   "metadata": {
    "tags": []
   },
   "outputs": [],
   "source": [
    "def extract_email_body(raw_email: str) -> str:\n",
    "    \"\"\"Function to extract the email body from the raw text\"\"\"\n",
    "    email_parser = Parser(policy=policy.default)\n",
    "    email_obj = email_parser.parsestr(raw_email)\n",
    "    email_body = email_obj.get_body().get_content()\n",
    "    return email_body\n",
    "\n",
    "\n",
    "def clean_text(text: str) -> str:\n",
    "    \"\"\"Cleans email text by removing headers, footers, quoted text, signatures and additional text cleaning process\"\"\"\n",
    "\n",
    "    # Removes Subject\n",
    "    # text = re.sub(r\"^.*?Subject:.*$\", \"\", text, flags=re.MULTILINE)\n",
    "\n",
    "    # Removes signatures\n",
    "    text = re.sub(r\"--\\n.*\", \" \", text, flags=re.MULTILINE | re.DOTALL)\n",
    "\n",
    "    # Removes HTML Tags\n",
    "    text = re.sub(r\"<.*?>\", \"\", text)\n",
    "\n",
    "    # Removes URLs\n",
    "    text = re.sub(r\"http[s]?://\\S+\", \" \", text)\n",
    "\n",
    "    # Removes email addresses\n",
    "    text = re.sub(r\"\\b[A-Za-z0-9._%+-]+@[A-Za-z0-9.-]+\\.[A-Z|a-z]{2,}\\b\", \" \", text)\n",
    "\n",
    "    # Normalize whitespace to a single space\n",
    "    text = re.sub(r\"[\\n\\s]+\", \" \", text).strip()\n",
    "\n",
    "    # Convert to lowercase\n",
    "    text = text.lower()\n",
    "\n",
    "    return text\n",
    "\n",
    "\n",
    "def get_n_words(text: str) -> int:\n",
    "    \"\"\"Function to obtain the number of words in a text\"\"\"\n",
    "    text = extract_email_body(text)\n",
    "    text = clean_text(text)\n",
    "    words = word_tokenize(text)\n",
    "    return len(words)"
   ]
  },
  {
   "cell_type": "code",
   "execution_count": 5,
   "id": "3cf8f40c-245b-4d19-95a6-0a40a224eb9d",
   "metadata": {
    "tags": []
   },
   "outputs": [],
   "source": [
    "df = df.with_columns(\n",
    "    (pol.col(\"Description\").map_elements(lambda x: get_n_words(x))).alias(\"n_words\")\n",
    ")\n",
    "\n",
    "df = df.with_columns(\n",
    "    (\n",
    "        pol.col(\"Description\").map_elements(lambda x: clean_text(extract_email_body(x)))\n",
    "    ).alias(\"clean_text\")\n",
    ")"
   ]
  },
  {
   "cell_type": "code",
   "execution_count": 6,
   "id": "aa7f85a9-5a3d-467b-983a-49a4f101432a",
   "metadata": {
    "tags": []
   },
   "outputs": [
    {
     "data": {
      "text/html": [
       "<div><style>\n",
       ".dataframe > thead > tr > th,\n",
       ".dataframe > tbody > tr > td {\n",
       "  text-align: right;\n",
       "  white-space: pre-wrap;\n",
       "}\n",
       "</style>\n",
       "<small>shape: (1, 8)</small><table border=\"1\" class=\"dataframe\"><thead><tr><th>Incident_No</th><th>Description</th><th>Assigned_Group</th><th>Incident_Type</th><th>Production_Category</th><th>Operational_Category</th><th>n_words</th><th>clean_text</th></tr><tr><td>u32</td><td>u32</td><td>u32</td><td>u32</td><td>u32</td><td>u32</td><td>u32</td><td>u32</td></tr></thead><tbody><tr><td>0</td><td>0</td><td>0</td><td>0</td><td>0</td><td>0</td><td>0</td><td>0</td></tr></tbody></table></div>"
      ],
      "text/plain": [
       "shape: (1, 8)\n",
       "┌────────────┬────────────┬────────────┬────────────┬────────────┬───────────┬─────────┬───────────┐\n",
       "│ Incident_N ┆ Descriptio ┆ Assigned_G ┆ Incident_T ┆ Production ┆ Operation ┆ n_words ┆ clean_tex │\n",
       "│ o          ┆ n          ┆ roup       ┆ ype        ┆ _Category  ┆ al_Catego ┆ ---     ┆ t         │\n",
       "│ ---        ┆ ---        ┆ ---        ┆ ---        ┆ ---        ┆ ry        ┆ u32     ┆ ---       │\n",
       "│ u32        ┆ u32        ┆ u32        ┆ u32        ┆ u32        ┆ ---       ┆         ┆ u32       │\n",
       "│            ┆            ┆            ┆            ┆            ┆ u32       ┆         ┆           │\n",
       "╞════════════╪════════════╪════════════╪════════════╪════════════╪═══════════╪═════════╪═══════════╡\n",
       "│ 0          ┆ 0          ┆ 0          ┆ 0          ┆ 0          ┆ 0         ┆ 0       ┆ 0         │\n",
       "└────────────┴────────────┴────────────┴────────────┴────────────┴───────────┴─────────┴───────────┘"
      ]
     },
     "execution_count": 6,
     "metadata": {},
     "output_type": "execute_result"
    }
   ],
   "source": [
    "df.null_count()"
   ]
  },
  {
   "cell_type": "code",
   "execution_count": 7,
   "id": "fad98214-b7fe-4fdc-b941-8cc8eed2fbd3",
   "metadata": {
    "tags": []
   },
   "outputs": [
    {
     "name": "stderr",
     "output_type": "stream",
     "text": [
      "/home/darthvader/miniconda3/envs/expenv/lib/python3.11/site-packages/seaborn/_oldcore.py:1119: FutureWarning: use_inf_as_na option is deprecated and will be removed in a future version. Convert inf values to NaN before operating instead.\n",
      "  with pd.option_context('mode.use_inf_as_na', True):\n"
     ]
    },
    {
     "data": {
      "image/png": "[encoded data removed]",
      "text/plain": [
       "<Figure size 800x500 with 2 Axes>"
      ]
     },
     "metadata": {},
     "output_type": "display_data"
    }
   ],
   "source": [
    "fig, axes = plt.subplots(1, 2, figsize=(8, 5))\n",
    "axes = axes.flatten()\n",
    "sns.histplot(data=df, x=\"n_words\", ax=axes[0])\n",
    "axes[1].boxplot(df[\"n_words\"].to_list())\n",
    "plt.show()"
   ]
  },
  {
   "cell_type": "code",
   "execution_count": 8,
   "id": "408938e8-b839-457a-9bdb-7cb32029c8fe",
   "metadata": {
    "tags": []
   },
   "outputs": [
    {
     "name": "stdout",
     "output_type": "stream",
     "text": [
      "Threshold value: 548.7595448125037\n",
      "Upper Quartile value: 105.0\n"
     ]
    }
   ],
   "source": [
    "mu = np.mean(df[\"n_words\"].to_list())\n",
    "std = np.std(df[\"n_words\"].to_list())\n",
    "\n",
    "threshold = mu + std\n",
    "\n",
    "print(f\"Threshold value: {threshold}\")\n",
    "print(f\"Upper Quartile value: {np.quantile(df['n_words'].to_list(), .75)}\")"
   ]
  },
  {
   "cell_type": "code",
   "execution_count": 9,
   "id": "ff087c06-f3ef-47df-b8e2-b8bb2d513d95",
   "metadata": {
    "tags": []
   },
   "outputs": [],
   "source": [
    "df_filtered = df.filter(\n",
    "    pol.col(\"n_words\") >= np.quantile(df[\"n_words\"].to_list(), 0.75)\n",
    ")"
   ]
  },
  {
   "cell_type": "code",
   "execution_count": 10,
   "id": "e606ff57-a749-47e8-b84e-9e0fbb4de797",
   "metadata": {
    "tags": []
   },
   "outputs": [],
   "source": [
    "def fix_labels(label: str):\n",
    "    \"\"\"Function to remove extra spacing in labels\"\"\"\n",
    "    label = label.lower()\n",
    "    label = label.strip()\n",
    "    label = re.sub(r\"\\s+\", \" \", label)\n",
    "    label = re.sub(r\"\\s-\\s\", \"-\", label)\n",
    "    label = re.sub(r\"-\\s\", \"-\", label)\n",
    "    label = re.sub(r\"\\s-\", \"-\", label)\n",
    "    label = re.sub(r\"sso-support-.*\", \"sso-upport\", label)\n",
    "    label = re.sub(r\"sso-opssupport-.*\", \"sso-opssupport\", label)\n",
    "    label = re.sub(r\".*?-application support\", \"application support\", label)\n",
    "    label = re.sub(r\"sso-unix?-.*\", \"sso-unix\", label)\n",
    "    label = re.sub(r\"ro-.*\", \"ro\", label)\n",
    "    label = re.sub(r\"zo-.*\", \"zo\", label)\n",
    "    label = re.sub(r\"msc[+]zo?.*\", \"zo\", label)\n",
    "    label = re.sub(r\"zo[+].*\", \"zo\", label)\n",
    "    label = re.sub(r\"ro[+].*\", \"ro\", label)\n",
    "    label = re.sub(r\".*eus-.*\", \"eus\", label)\n",
    "    label = re.sub(r\".*network-.*\", \"network\", label)\n",
    "    label = re.sub(r\"wh-.*\", \"wh\", label)\n",
    "    label = re.sub(r\"ho-.*\", \"ho\", label)\n",
    "\n",
    "    if \"rhythm\" in label:\n",
    "        label = label.replace(\"rhythm\", \"\")\n",
    "\n",
    "    if \"jazz\" in label:\n",
    "        label = label.replace(\"jazz\", \"\")\n",
    "\n",
    "    if \"blue\" in label or \"blues\" in label:\n",
    "        label = label.replace(\"blue\", \"\").replace(\"blues\", \"\")\n",
    "\n",
    "    if \"dispatcher\" in label and label != \"dispatcher\":\n",
    "        label = label.replace(\"dispatcher\", \"\")\n",
    "\n",
    "    if label.endswith(\"-\"):\n",
    "        label = label[:-1]\n",
    "\n",
    "    return label"
   ]
  },
  {
   "cell_type": "code",
   "execution_count": 11,
   "id": "a790cf47-70bc-467f-b977-307ffe7a71e8",
   "metadata": {
    "tags": []
   },
   "outputs": [],
   "source": [
    "df_filtered = df_filtered.with_columns(\n",
    "    (pol.col(\"Assigned_Group\").map_elements(lambda x: fix_labels(x))).alias(\n",
    "        \"Assigned_Group_fixed\"\n",
    "    )\n",
    ")"
   ]
  },
  {
   "cell_type": "code",
   "execution_count": 12,
   "id": "522cb4cb-8313-4b7c-8281-12ec3d885c83",
   "metadata": {
    "tags": []
   },
   "outputs": [
    {
     "data": {
      "text/plain": [
       "200"
      ]
     },
     "execution_count": 12,
     "metadata": {},
     "output_type": "execute_result"
    }
   ],
   "source": [
    "unique_labels = df_filtered[\"Assigned_Group_fixed\"].unique().to_list()\n",
    "len(unique_labels)"
   ]
  },
  {
   "cell_type": "code",
   "execution_count": 13,
   "id": "059a3a62-0085-4034-aa4d-939f881f1400",
   "metadata": {
    "tags": []
   },
   "outputs": [],
   "source": [
    "def filter_labels(labels: str, search_label: str) -> list:\n",
    "    \"\"\"Function to filter labels based on search labels\"\"\"\n",
    "\n",
    "    return list(filter(lambda x: search_label in x, labels))"
   ]
  },
  {
   "cell_type": "code",
   "execution_count": 14,
   "id": "d420e219-a38e-4331-9a4a-37efb7ce5a1e",
   "metadata": {
    "tags": []
   },
   "outputs": [],
   "source": [
    "def freq_label_record(data: pol.DataFrame, label: str):\n",
    "    \"\"\"Function to obtain the frequency of a specific label\"\"\"\n",
    "    n_rec = len(\n",
    "        data.filter(pol.col(\"Assigned_Group_fixed\").is_in([label]))[\n",
    "            \"Description\"\n",
    "        ].to_list()\n",
    "    )\n",
    "    return n_rec"
   ]
  },
  {
   "cell_type": "code",
   "execution_count": 15,
   "id": "36f824a9-0ad8-4716-8c6d-46512e645ddc",
   "metadata": {
    "tags": []
   },
   "outputs": [
    {
     "name": "stderr",
     "output_type": "stream",
     "text": [
      "/home/darthvader/miniconda3/envs/expenv/lib/python3.11/site-packages/seaborn/_oldcore.py:1119: FutureWarning: use_inf_as_na option is deprecated and will be removed in a future version. Convert inf values to NaN before operating instead.\n",
      "  with pd.option_context('mode.use_inf_as_na', True):\n"
     ]
    },
    {
     "data": {
      "image/png": "[encoded data removed]",
      "text/plain": [
       "<Figure size 1200x1000 with 1 Axes>"
      ]
     },
     "metadata": {},
     "output_type": "display_data"
    }
   ],
   "source": [
    "plt.figure(figsize=(12, 10))\n",
    "sns.histplot(\n",
    "    data=df_filtered, x=df_filtered[\"Assigned_Group_fixed\"].value_counts()[\"counts\"]\n",
    ")\n",
    "plt.axvline(x=100, color=\"orangered\", label=\"100\", linestyle=\"--\")\n",
    "plt.xlabel(\"Frequency of each label\")\n",
    "plt.ylabel(\"Frequency\")\n",
    "plt.show()"
   ]
  },
  {
   "cell_type": "code",
   "execution_count": 16,
   "id": "9aa05929-881d-4da5-a8f4-64e04a6ff947",
   "metadata": {
    "tags": []
   },
   "outputs": [],
   "source": [
    "def get_stats_label_count(data: pol.DataFrame, quantiles: List):\n",
    "    \"\"\"Function to calculate the number of unique labels for each quantile value (Long-tail cutoff)\"\"\"\n",
    "\n",
    "    value_counts = data[\"Assigned_Group_fixed\"].value_counts()\n",
    "\n",
    "    for quantile in quantiles:\n",
    "        threshold_label_count = np.quantile(value_counts[\"counts\"].to_list(), quantile)\n",
    "        new_value_counts = value_counts.filter(\n",
    "            pol.col(\"counts\") >= threshold_label_count\n",
    "        )\n",
    "        labels = value_counts.filter(pol.col(\"counts\") >= threshold_label_count)[\n",
    "            \"Assigned_Group_fixed\"\n",
    "        ].to_list()\n",
    "\n",
    "        new_df = data.filter((pol.col(\"Assigned_Group_fixed\").is_in(labels)))\n",
    "        percent_of_data = new_df.shape[0] / data.shape[0] * 100\n",
    "\n",
    "        print(\n",
    "            f\"Quantile: {quantile}, Threshold (label count): {threshold_label_count}, No. of Unique labels: {len(new_value_counts['Assigned_Group_fixed'].to_list())}, Percentage of Data: {percent_of_data:.3f}\"\n",
    "        )"
   ]
  },
  {
   "cell_type": "code",
   "execution_count": 17,
   "id": "a20978b4-22f2-4857-aa1e-ec9156aeaebb",
   "metadata": {
    "tags": []
   },
   "outputs": [
    {
     "name": "stdout",
     "output_type": "stream",
     "text": [
      "Quantile: 0.5, Threshold (label count): 10.5, No. of Unique labels: 100, Percentage of Data: 97.408\n",
      "Quantile: 0.75, Threshold (label count): 47.0, No. of Unique labels: 51, Percentage of Data: 88.802\n",
      "Quantile: 0.8, Threshold (label count): 64.80000000000007, No. of Unique labels: 40, Percentage of Data: 83.806\n",
      "Quantile: 0.85, Threshold (label count): 93.30000000000001, No. of Unique labels: 30, Percentage of Data: 77.580\n",
      "Quantile: 0.9, Threshold (label count): 123.39999999999998, No. of Unique labels: 20, Percentage of Data: 69.005\n",
      "Quantile: 0.95, Threshold (label count): 234.04999999999862, No. of Unique labels: 10, Percentage of Data: 55.560\n",
      "Quantile: 0.99, Threshold (label count): 1054.4399999999996, No. of Unique labels: 2, Percentage of Data: 17.635\n"
     ]
    }
   ],
   "source": [
    "get_stats_label_count(df_filtered, [0.5, 0.75, 0.8, 0.85, 0.9, 0.95, 0.99])"
   ]
  },
  {
   "cell_type": "code",
   "execution_count": 18,
   "id": "6827bd76-e630-4165-bbf5-afd13e189276",
   "metadata": {
    "tags": []
   },
   "outputs": [
    {
     "data": {
      "text/html": [
       "<div><style>\n",
       ".dataframe > thead > tr > th,\n",
       ".dataframe > tbody > tr > td {\n",
       "  text-align: right;\n",
       "  white-space: pre-wrap;\n",
       "}\n",
       "</style>\n",
       "<small>shape: (5, 2)</small><table border=\"1\" class=\"dataframe\"><thead><tr><th>Assigned_Group_fixed</th><th>counts</th></tr><tr><td>str</td><td>u32</td></tr></thead><tbody><tr><td>&quot;cit-cpos-cposs…</td><td>1154</td></tr><tr><td>&quot;dispatcher&quot;</td><td>1098</td></tr><tr><td>&quot;l1-crm postpai…</td><td>1054</td></tr><tr><td>&quot;security opera…</td><td>899</td></tr><tr><td>&quot;disha crm-crm-…</td><td>736</td></tr></tbody></table></div>"
      ],
      "text/plain": [
       "shape: (5, 2)\n",
       "┌─────────────────────────────────┬────────┐\n",
       "│ Assigned_Group_fixed            ┆ counts │\n",
       "│ ---                             ┆ ---    │\n",
       "│ str                             ┆ u32    │\n",
       "╞═════════════════════════════════╪════════╡\n",
       "│ cit-cpos-cpossupport            ┆ 1154   │\n",
       "│ dispatcher                      ┆ 1098   │\n",
       "│ l1-crm postpaid support         ┆ 1054   │\n",
       "│ security operations             ┆ 899    │\n",
       "│ disha crm-crm-pune-metropolitan ┆ 736    │\n",
       "└─────────────────────────────────┴────────┘"
      ]
     },
     "execution_count": 18,
     "metadata": {},
     "output_type": "execute_result"
    }
   ],
   "source": [
    "value_counts = (\n",
    "    df_filtered[\"Assigned_Group_fixed\"]\n",
    "    .value_counts()\n",
    "    .sort(by=\"counts\", descending=True)\n",
    ")\n",
    "value_counts.head()"
   ]
  },
  {
   "cell_type": "code",
   "execution_count": 19,
   "id": "7d97c5d2-111c-4061-828f-3e323bbd572a",
   "metadata": {
    "tags": []
   },
   "outputs": [
    {
     "name": "stdout",
     "output_type": "stream",
     "text": [
      "Shape of the Short-Head data: (11340, 9)\n",
      "Shape of the Long-Tail data: (1430, 9)\n"
     ]
    }
   ],
   "source": [
    "short_head_labels = value_counts.filter(pol.col(\"counts\") >= 47)[\n",
    "    \"Assigned_Group_fixed\"\n",
    "].to_list()\n",
    "\n",
    "\n",
    "df_short_head = df_filtered.filter(\n",
    "    pol.col(\"Assigned_Group_fixed\").is_in(short_head_labels)\n",
    ")\n",
    "df_long_tail = df_filtered.filter(\n",
    "    ~pol.col(\"Assigned_Group_fixed\").is_in(short_head_labels)\n",
    ")\n",
    "\n",
    "print(f\"Shape of the Short-Head data: {df_short_head.shape}\")\n",
    "print(f\"Shape of the Long-Tail data: {df_long_tail.shape}\")"
   ]
  },
  {
   "cell_type": "code",
   "execution_count": 20,
   "id": "6af83a25-e0ec-4f90-8289-4fd7d7c2ec68",
   "metadata": {
    "tags": []
   },
   "outputs": [],
   "source": [
    "df_short_head.write_csv(\n",
    "    \"../data/vodafone_data_short_head_long_emails.csv\", separator=\",\"\n",
    ")\n",
    "df_long_tail.write_csv(\"../data/vodafone_data_long_tail_long_emails.csv\", separator=\",\")"
   ]
  },
  {
   "cell_type": "code",
   "execution_count": null,
   "id": "fc79a998-48e1-40e7-a1b5-90c5b9e57d68",
   "metadata": {},
   "outputs": [],
   "source": []
  }
 ],
 "metadata": {
  "kernelspec": {
   "display_name": "Python 3 (ipykernel)",
   "language": "python",
   "name": "python3"
  },
  "language_info": {
   "codemirror_mode": {
    "name": "ipython",
    "version": 3
   },
   "file_extension": ".py",
   "mimetype": "text/x-python",
   "name": "python",
   "nbconvert_exporter": "python",
   "pygments_lexer": "ipython3",
   "version": "3.11.7"
  }
 },
 "nbformat": 4,
 "nbformat_minor": 5
}
