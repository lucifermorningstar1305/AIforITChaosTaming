{
 "cells": [
  {
   "cell_type": "code",
   "execution_count": 1,
   "id": "269cfadf-abf4-4e07-9a04-be041f75eb1d",
   "metadata": {},
   "outputs": [],
   "source": [
    "import polars as pol\n",
    "import numpy as np\n",
    "\n",
    "from typing import Tuple"
   ]
  },
  {
   "cell_type": "code",
   "execution_count": 5,
   "id": "3a1a0f6c-e60d-4b4d-b23f-f89d1c190f86",
   "metadata": {},
   "outputs": [],
   "source": [
    "def calc_n_correct(data_path: str) -> Tuple:\n",
    "    \"\"\"Function to calculate the number of correct responses\"\"\"\n",
    "    df = pol.read_json(data_path)\n",
    "    labels = df[\"label\"].to_list()\n",
    "    llm_responses = df[\"llm_response\"].to_list()\n",
    "    n_correct = 0\n",
    "    for i in range(len(labels)):\n",
    "        if labels[i] == llm_responses[i]:\n",
    "            n_correct += 1\n",
    "    return n_correct, df.shape[0]\n",
    "    "
   ]
  },
  {
   "cell_type": "code",
   "execution_count": 8,
   "id": "55255a2a-7f96-4778-946a-5c973f8f7e15",
   "metadata": {},
   "outputs": [
    {
     "name": "stdout",
     "output_type": "stream",
     "text": [
      "0.76\n"
     ]
    }
   ],
   "source": [
    "n_correct, n_records = calc_n_correct(\"../responses/response_4_shot.json\")\n",
    "print(np.round(n_correct / n_records, 3))"
   ]
  },
  {
   "cell_type": "code",
   "execution_count": 9,
   "id": "fe4eb5ae-6c47-4ffd-8523-3b83b37fd8ac",
   "metadata": {},
   "outputs": [
    {
     "name": "stdout",
     "output_type": "stream",
     "text": [
      "0.681\n"
     ]
    }
   ],
   "source": [
    "n_correct, n_records = calc_n_correct(\"../responses/response_8_shot.json\")\n",
    "print(np.round(n_correct / n_records, 3))"
   ]
  },
  {
   "cell_type": "code",
   "execution_count": null,
   "id": "4a60d629-c0fd-4b59-925a-230dd928a0f1",
   "metadata": {},
   "outputs": [],
   "source": []
  }
 ],
 "metadata": {
  "kernelspec": {
   "display_name": "Python 3 (ipykernel)",
   "language": "python",
   "name": "python3"
  },
  "language_info": {
   "codemirror_mode": {
    "name": "ipython",
    "version": 3
   },
   "file_extension": ".py",
   "mimetype": "text/x-python",
   "name": "python",
   "nbconvert_exporter": "python",
   "pygments_lexer": "ipython3",
   "version": "3.12.1"
  }
 },
 "nbformat": 4,
 "nbformat_minor": 5
}
